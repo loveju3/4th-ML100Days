{
  "nbformat": 4,
  "nbformat_minor": 0,
  "metadata": {
    "colab": {
      "name": "Day078_HW.ipynb",
      "provenance": []
    },
    "kernelspec": {
      "name": "python3",
      "display_name": "Python 3"
    }
  },
  "cells": [
    {
      "cell_type": "code",
      "metadata": {
        "id": "JZYs9pGvhAta",
        "colab_type": "code",
        "colab": {
          "base_uri": "https://localhost:8080/",
          "height": 50
        },
        "outputId": "2d3b95aa-3e03-4fe9-da44-c6319be49781"
      },
      "source": [
        "!nvidia-smi"
      ],
      "execution_count": 38,
      "outputs": [
        {
          "output_type": "stream",
          "text": [
            "NVIDIA-SMI has failed because it couldn't communicate with the NVIDIA driver. Make sure that the latest NVIDIA driver is installed and running.\n",
            "\n"
          ],
          "name": "stdout"
        }
      ]
    },
    {
      "cell_type": "code",
      "metadata": {
        "id": "8QHKNcCKhJXN",
        "colab_type": "code",
        "colab": {}
      },
      "source": [
        "import os\n",
        "import keras\n",
        "\n",
        "# 本範例不需使用 GPU, 將 GPU 設定為 \"無\"\n",
        "os.environ[\"CUDA_VISIBLE_DEVICES\"] = \"\""
      ],
      "execution_count": 39,
      "outputs": []
    },
    {
      "cell_type": "code",
      "metadata": {
        "id": "36dqq7HrhUOi",
        "colab_type": "code",
        "colab": {}
      },
      "source": [
        "# 從 Keras 的內建功能中，取得 train 與 test 資料集\n",
        "train, test = keras.datasets.cifar10.load_data()"
      ],
      "execution_count": 40,
      "outputs": []
    },
    {
      "cell_type": "code",
      "metadata": {
        "id": "w4CiMnbbhWhz",
        "colab_type": "code",
        "colab": {}
      },
      "source": [
        "## 資料前處理\n",
        "def preproc_x(x, flatten=True):\n",
        "  # x = 2 * ((x-min(x)) / (max(x)-min(x))) -1\n",
        "  x = 2 * ((x-0) / (255-0)) -1\n",
        "  if flatten:\n",
        "      x = x.reshape((len(x), -1))\n",
        "  return x\n",
        "\n",
        "def preproc_y(y, num_classes=10):\n",
        "    if y.shape[-1] == 1:\n",
        "        y = keras.utils.to_categorical(y, num_classes)\n",
        "    return y "
      ],
      "execution_count": 41,
      "outputs": []
    },
    {
      "cell_type": "code",
      "metadata": {
        "id": "HoeOKJDqh2Or",
        "colab_type": "code",
        "colab": {}
      },
      "source": [
        "x_train, y_train = train\n",
        "x_test, y_test = test\n",
        "\n",
        "# 資料前處理 - X 標準化\n",
        "x_train = preproc_x(x_train)\n",
        "x_test = preproc_x(x_test)\n",
        "\n",
        "# 資料前處理 -Y 轉成 onehot\n",
        "y_train = preproc_y(y_train)\n",
        "y_test = preproc_y(y_test)"
      ],
      "execution_count": 42,
      "outputs": []
    },
    {
      "cell_type": "code",
      "metadata": {
        "id": "wqBcDZAZh75r",
        "colab_type": "code",
        "colab": {}
      },
      "source": [
        "def build_mlp(input_shape, output_units=10, num_neurons=[512, 256, 128, 64, 64, 64]):\n",
        "    input_layer = keras.layers.Input(input_shape)\n",
        "    \n",
        "    for i, n_units in enumerate(num_neurons):\n",
        "        if i == 0:\n",
        "            x = keras.layers.Dense(units=n_units, activation=\"relu\", name=\"hidden_layer\"+str(i+1))(input_layer)\n",
        "        else:\n",
        "            x = keras.layers.Dense(units=n_units, activation=\"relu\", name=\"hidden_layer\"+str(i+1))(x)\n",
        "    \n",
        "    out = keras.layers.Dense(units=output_units, activation=\"softmax\", name=\"output\")(x)\n",
        "    \n",
        "    model = keras.models.Model(inputs=[input_layer], outputs=[out])\n",
        "    return model"
      ],
      "execution_count": 43,
      "outputs": []
    },
    {
      "cell_type": "code",
      "metadata": {
        "id": "ot5wuqsWiDnc",
        "colab_type": "code",
        "colab": {
          "base_uri": "https://localhost:8080/",
          "height": 418
        },
        "outputId": "f190d449-2dcb-4b66-9c7e-26051e38cea3"
      },
      "source": [
        "model = build_mlp(input_shape=x_train.shape[1:])\n",
        "model.summary()"
      ],
      "execution_count": 44,
      "outputs": [
        {
          "output_type": "stream",
          "text": [
            "Model: \"model_1\"\n",
            "_________________________________________________________________\n",
            "Layer (type)                 Output Shape              Param #   \n",
            "=================================================================\n",
            "input_1 (InputLayer)         (None, 3072)              0         \n",
            "_________________________________________________________________\n",
            "hidden_layer1 (Dense)        (None, 512)               1573376   \n",
            "_________________________________________________________________\n",
            "hidden_layer2 (Dense)        (None, 256)               131328    \n",
            "_________________________________________________________________\n",
            "hidden_layer3 (Dense)        (None, 128)               32896     \n",
            "_________________________________________________________________\n",
            "hidden_layer4 (Dense)        (None, 64)                8256      \n",
            "_________________________________________________________________\n",
            "hidden_layer5 (Dense)        (None, 64)                4160      \n",
            "_________________________________________________________________\n",
            "hidden_layer6 (Dense)        (None, 64)                4160      \n",
            "_________________________________________________________________\n",
            "output (Dense)               (None, 10)                650       \n",
            "=================================================================\n",
            "Total params: 1,754,826\n",
            "Trainable params: 1,754,826\n",
            "Non-trainable params: 0\n",
            "_________________________________________________________________\n"
          ],
          "name": "stdout"
        }
      ]
    },
    {
      "cell_type": "code",
      "metadata": {
        "id": "V8HGL7UniGOz",
        "colab_type": "code",
        "colab": {}
      },
      "source": [
        "## 超參數設定\n",
        "LEARNING_RATE = 0.001\n",
        "EPOCHS = 100\n",
        "BATCH_SIZE = 256"
      ],
      "execution_count": 45,
      "outputs": []
    },
    {
      "cell_type": "code",
      "metadata": {
        "id": "0KnJS2e0iIKS",
        "colab_type": "code",
        "colab": {}
      },
      "source": [
        "optimizer = keras.optimizers.Adam(lr=LEARNING_RATE)\n",
        "model.compile(loss=\"categorical_crossentropy\", metrics=[\"accuracy\"], optimizer=optimizer)"
      ],
      "execution_count": 46,
      "outputs": []
    },
    {
      "cell_type": "code",
      "metadata": {
        "id": "gxFOARrpiLG8",
        "colab_type": "code",
        "colab": {
          "base_uri": "https://localhost:8080/",
          "height": 1000
        },
        "outputId": "44bc82c1-715a-46a6-f666-d039b1bc6f2b"
      },
      "source": [
        "model.fit(x_train, y_train, \n",
        "          epochs=EPOCHS, \n",
        "          batch_size=BATCH_SIZE, \n",
        "          validation_data=(x_test, y_test), \n",
        "          shuffle=True)"
      ],
      "execution_count": 47,
      "outputs": [
        {
          "output_type": "stream",
          "text": [
            "Train on 50000 samples, validate on 10000 samples\n",
            "Epoch 1/100\n",
            "50000/50000 [==============================] - 12s 231us/step - loss: 1.7299 - accuracy: 0.3839 - val_loss: 1.5420 - val_accuracy: 0.4560\n",
            "Epoch 2/100\n",
            "50000/50000 [==============================] - 11s 224us/step - loss: 1.4874 - accuracy: 0.4740 - val_loss: 1.4647 - val_accuracy: 0.4856\n",
            "Epoch 3/100\n",
            "50000/50000 [==============================] - 11s 223us/step - loss: 1.3703 - accuracy: 0.5144 - val_loss: 1.4122 - val_accuracy: 0.5027\n",
            "Epoch 4/100\n",
            "50000/50000 [==============================] - 11s 224us/step - loss: 1.2775 - accuracy: 0.5488 - val_loss: 1.4179 - val_accuracy: 0.5044\n",
            "Epoch 5/100\n",
            "50000/50000 [==============================] - 11s 224us/step - loss: 1.1984 - accuracy: 0.5784 - val_loss: 1.3746 - val_accuracy: 0.5175\n",
            "Epoch 6/100\n",
            "50000/50000 [==============================] - 11s 224us/step - loss: 1.1295 - accuracy: 0.6032 - val_loss: 1.3555 - val_accuracy: 0.5346\n",
            "Epoch 7/100\n",
            "50000/50000 [==============================] - 11s 223us/step - loss: 1.0493 - accuracy: 0.6293 - val_loss: 1.3599 - val_accuracy: 0.5367\n",
            "Epoch 8/100\n",
            "50000/50000 [==============================] - 11s 226us/step - loss: 0.9825 - accuracy: 0.6506 - val_loss: 1.4051 - val_accuracy: 0.5269\n",
            "Epoch 9/100\n",
            "50000/50000 [==============================] - 11s 227us/step - loss: 0.9271 - accuracy: 0.6707 - val_loss: 1.4145 - val_accuracy: 0.5245\n",
            "Epoch 10/100\n",
            "50000/50000 [==============================] - 11s 221us/step - loss: 0.8527 - accuracy: 0.6972 - val_loss: 1.4948 - val_accuracy: 0.5224\n",
            "Epoch 11/100\n",
            "50000/50000 [==============================] - 11s 222us/step - loss: 0.7903 - accuracy: 0.7189 - val_loss: 1.4516 - val_accuracy: 0.5358\n",
            "Epoch 12/100\n",
            "50000/50000 [==============================] - 11s 223us/step - loss: 0.7325 - accuracy: 0.7414 - val_loss: 1.5700 - val_accuracy: 0.5359\n",
            "Epoch 13/100\n",
            "50000/50000 [==============================] - 11s 224us/step - loss: 0.6784 - accuracy: 0.7579 - val_loss: 1.6120 - val_accuracy: 0.5328\n",
            "Epoch 14/100\n",
            "50000/50000 [==============================] - 11s 225us/step - loss: 0.6242 - accuracy: 0.7791 - val_loss: 1.6693 - val_accuracy: 0.5344\n",
            "Epoch 15/100\n",
            "50000/50000 [==============================] - 11s 224us/step - loss: 0.5775 - accuracy: 0.7962 - val_loss: 1.7102 - val_accuracy: 0.5278\n",
            "Epoch 16/100\n",
            "50000/50000 [==============================] - 11s 224us/step - loss: 0.5406 - accuracy: 0.8084 - val_loss: 1.8239 - val_accuracy: 0.5252\n",
            "Epoch 17/100\n",
            "50000/50000 [==============================] - 11s 224us/step - loss: 0.4986 - accuracy: 0.8229 - val_loss: 1.8014 - val_accuracy: 0.5251\n",
            "Epoch 18/100\n",
            "50000/50000 [==============================] - 11s 227us/step - loss: 0.4598 - accuracy: 0.8386 - val_loss: 1.8887 - val_accuracy: 0.5295\n",
            "Epoch 19/100\n",
            "50000/50000 [==============================] - 11s 224us/step - loss: 0.4199 - accuracy: 0.8510 - val_loss: 2.0618 - val_accuracy: 0.5195\n",
            "Epoch 20/100\n",
            "50000/50000 [==============================] - 11s 225us/step - loss: 0.4019 - accuracy: 0.8569 - val_loss: 2.1134 - val_accuracy: 0.5271\n",
            "Epoch 21/100\n",
            "50000/50000 [==============================] - 11s 225us/step - loss: 0.3798 - accuracy: 0.8651 - val_loss: 2.2109 - val_accuracy: 0.5322\n",
            "Epoch 22/100\n",
            "50000/50000 [==============================] - 11s 224us/step - loss: 0.3416 - accuracy: 0.8802 - val_loss: 2.3015 - val_accuracy: 0.5365\n",
            "Epoch 23/100\n",
            "50000/50000 [==============================] - 11s 225us/step - loss: 0.3206 - accuracy: 0.8878 - val_loss: 2.4171 - val_accuracy: 0.5267\n",
            "Epoch 24/100\n",
            "50000/50000 [==============================] - 11s 224us/step - loss: 0.3181 - accuracy: 0.8892 - val_loss: 2.4540 - val_accuracy: 0.5192\n",
            "Epoch 25/100\n",
            "50000/50000 [==============================] - 11s 224us/step - loss: 0.2866 - accuracy: 0.9000 - val_loss: 2.4538 - val_accuracy: 0.5291\n",
            "Epoch 26/100\n",
            "50000/50000 [==============================] - 11s 224us/step - loss: 0.2698 - accuracy: 0.9062 - val_loss: 2.5389 - val_accuracy: 0.5317\n",
            "Epoch 27/100\n",
            "50000/50000 [==============================] - 11s 223us/step - loss: 0.2647 - accuracy: 0.9079 - val_loss: 2.7794 - val_accuracy: 0.5231\n",
            "Epoch 28/100\n",
            "50000/50000 [==============================] - 11s 224us/step - loss: 0.2403 - accuracy: 0.9165 - val_loss: 2.6998 - val_accuracy: 0.5254\n",
            "Epoch 29/100\n",
            "50000/50000 [==============================] - 11s 223us/step - loss: 0.2390 - accuracy: 0.9153 - val_loss: 2.7917 - val_accuracy: 0.5273\n",
            "Epoch 30/100\n",
            "50000/50000 [==============================] - 11s 223us/step - loss: 0.2365 - accuracy: 0.9176 - val_loss: 2.8758 - val_accuracy: 0.5283\n",
            "Epoch 31/100\n",
            "50000/50000 [==============================] - 11s 223us/step - loss: 0.2125 - accuracy: 0.9261 - val_loss: 2.8306 - val_accuracy: 0.5276\n",
            "Epoch 32/100\n",
            "50000/50000 [==============================] - 12s 231us/step - loss: 0.2085 - accuracy: 0.9284 - val_loss: 2.9065 - val_accuracy: 0.5322\n",
            "Epoch 33/100\n",
            "50000/50000 [==============================] - 11s 222us/step - loss: 0.2040 - accuracy: 0.9306 - val_loss: 2.9384 - val_accuracy: 0.5321\n",
            "Epoch 34/100\n",
            "50000/50000 [==============================] - 11s 222us/step - loss: 0.1883 - accuracy: 0.9352 - val_loss: 3.0114 - val_accuracy: 0.5239\n",
            "Epoch 35/100\n",
            "50000/50000 [==============================] - 11s 223us/step - loss: 0.1865 - accuracy: 0.9355 - val_loss: 3.1677 - val_accuracy: 0.5259\n",
            "Epoch 36/100\n",
            "50000/50000 [==============================] - 11s 222us/step - loss: 0.1776 - accuracy: 0.9392 - val_loss: 3.2156 - val_accuracy: 0.5245\n",
            "Epoch 37/100\n",
            "50000/50000 [==============================] - 11s 224us/step - loss: 0.1720 - accuracy: 0.9416 - val_loss: 3.2157 - val_accuracy: 0.5226\n",
            "Epoch 38/100\n",
            "50000/50000 [==============================] - 11s 220us/step - loss: 0.1700 - accuracy: 0.9419 - val_loss: 3.1257 - val_accuracy: 0.5318\n",
            "Epoch 39/100\n",
            "50000/50000 [==============================] - 11s 220us/step - loss: 0.1595 - accuracy: 0.9455 - val_loss: 3.1669 - val_accuracy: 0.5291\n",
            "Epoch 40/100\n",
            "50000/50000 [==============================] - 11s 219us/step - loss: 0.1585 - accuracy: 0.9451 - val_loss: 3.2121 - val_accuracy: 0.5386\n",
            "Epoch 41/100\n",
            "50000/50000 [==============================] - 11s 220us/step - loss: 0.1663 - accuracy: 0.9438 - val_loss: 3.3869 - val_accuracy: 0.5239\n",
            "Epoch 42/100\n",
            "50000/50000 [==============================] - 11s 221us/step - loss: 0.1602 - accuracy: 0.9452 - val_loss: 3.4644 - val_accuracy: 0.5334\n",
            "Epoch 43/100\n",
            "50000/50000 [==============================] - 11s 220us/step - loss: 0.1601 - accuracy: 0.9465 - val_loss: 3.4299 - val_accuracy: 0.5321\n",
            "Epoch 44/100\n",
            "50000/50000 [==============================] - 11s 221us/step - loss: 0.1271 - accuracy: 0.9579 - val_loss: 3.5185 - val_accuracy: 0.5264\n",
            "Epoch 45/100\n",
            "50000/50000 [==============================] - 11s 220us/step - loss: 0.1401 - accuracy: 0.9513 - val_loss: 3.3963 - val_accuracy: 0.5314\n",
            "Epoch 46/100\n",
            "50000/50000 [==============================] - 11s 221us/step - loss: 0.1373 - accuracy: 0.9537 - val_loss: 3.2368 - val_accuracy: 0.5282\n",
            "Epoch 47/100\n",
            "50000/50000 [==============================] - 11s 221us/step - loss: 0.1313 - accuracy: 0.9559 - val_loss: 3.6139 - val_accuracy: 0.5264\n",
            "Epoch 48/100\n",
            "50000/50000 [==============================] - 11s 221us/step - loss: 0.1429 - accuracy: 0.9525 - val_loss: 3.4298 - val_accuracy: 0.5330\n",
            "Epoch 49/100\n",
            "50000/50000 [==============================] - 13s 268us/step - loss: 0.1310 - accuracy: 0.9556 - val_loss: 3.6887 - val_accuracy: 0.5220\n",
            "Epoch 50/100\n",
            "50000/50000 [==============================] - 11s 220us/step - loss: 0.1239 - accuracy: 0.9582 - val_loss: 3.5543 - val_accuracy: 0.5263\n",
            "Epoch 51/100\n",
            "50000/50000 [==============================] - 11s 220us/step - loss: 0.1316 - accuracy: 0.9561 - val_loss: 3.5548 - val_accuracy: 0.5199\n",
            "Epoch 52/100\n",
            "50000/50000 [==============================] - 11s 221us/step - loss: 0.1205 - accuracy: 0.9591 - val_loss: 3.7028 - val_accuracy: 0.5280\n",
            "Epoch 53/100\n",
            "50000/50000 [==============================] - 11s 220us/step - loss: 0.1080 - accuracy: 0.9635 - val_loss: 3.5987 - val_accuracy: 0.5345\n",
            "Epoch 54/100\n",
            "50000/50000 [==============================] - 11s 222us/step - loss: 0.1248 - accuracy: 0.9584 - val_loss: 3.5943 - val_accuracy: 0.5289\n",
            "Epoch 55/100\n",
            "50000/50000 [==============================] - 11s 221us/step - loss: 0.1047 - accuracy: 0.9641 - val_loss: 3.8543 - val_accuracy: 0.5351\n",
            "Epoch 56/100\n",
            "50000/50000 [==============================] - 11s 222us/step - loss: 0.1080 - accuracy: 0.9635 - val_loss: 3.8272 - val_accuracy: 0.5257\n",
            "Epoch 57/100\n",
            "50000/50000 [==============================] - 11s 220us/step - loss: 0.1197 - accuracy: 0.9598 - val_loss: 3.6754 - val_accuracy: 0.5261\n",
            "Epoch 58/100\n",
            "50000/50000 [==============================] - 11s 221us/step - loss: 0.0976 - accuracy: 0.9666 - val_loss: 3.8690 - val_accuracy: 0.5254\n",
            "Epoch 59/100\n",
            "50000/50000 [==============================] - 11s 221us/step - loss: 0.1069 - accuracy: 0.9644 - val_loss: 3.8036 - val_accuracy: 0.5204\n",
            "Epoch 60/100\n",
            "50000/50000 [==============================] - 11s 220us/step - loss: 0.1051 - accuracy: 0.9638 - val_loss: 3.8397 - val_accuracy: 0.5288\n",
            "Epoch 61/100\n",
            "50000/50000 [==============================] - 11s 220us/step - loss: 0.1032 - accuracy: 0.9655 - val_loss: 3.8813 - val_accuracy: 0.5318\n",
            "Epoch 62/100\n",
            "50000/50000 [==============================] - 11s 221us/step - loss: 0.1060 - accuracy: 0.9652 - val_loss: 3.8072 - val_accuracy: 0.5337\n",
            "Epoch 63/100\n",
            "50000/50000 [==============================] - 11s 222us/step - loss: 0.1045 - accuracy: 0.9654 - val_loss: 3.7891 - val_accuracy: 0.5263\n",
            "Epoch 64/100\n",
            "50000/50000 [==============================] - 11s 223us/step - loss: 0.1068 - accuracy: 0.9648 - val_loss: 3.8482 - val_accuracy: 0.5274\n",
            "Epoch 65/100\n",
            "50000/50000 [==============================] - 11s 222us/step - loss: 0.1113 - accuracy: 0.9632 - val_loss: 3.5340 - val_accuracy: 0.5256\n",
            "Epoch 66/100\n",
            "50000/50000 [==============================] - 11s 219us/step - loss: 0.0876 - accuracy: 0.9705 - val_loss: 3.9773 - val_accuracy: 0.5265\n",
            "Epoch 67/100\n",
            "50000/50000 [==============================] - 11s 220us/step - loss: 0.1015 - accuracy: 0.9662 - val_loss: 3.7905 - val_accuracy: 0.5334\n",
            "Epoch 68/100\n",
            "50000/50000 [==============================] - 11s 221us/step - loss: 0.0836 - accuracy: 0.9716 - val_loss: 3.9599 - val_accuracy: 0.5292\n",
            "Epoch 69/100\n",
            "50000/50000 [==============================] - 11s 221us/step - loss: 0.0951 - accuracy: 0.9695 - val_loss: 3.8437 - val_accuracy: 0.5198\n",
            "Epoch 70/100\n",
            "50000/50000 [==============================] - 11s 219us/step - loss: 0.0735 - accuracy: 0.9758 - val_loss: 3.8791 - val_accuracy: 0.5294\n",
            "Epoch 71/100\n",
            "50000/50000 [==============================] - 11s 219us/step - loss: 0.0928 - accuracy: 0.9704 - val_loss: 3.9721 - val_accuracy: 0.5264\n",
            "Epoch 72/100\n",
            "50000/50000 [==============================] - 11s 221us/step - loss: 0.0920 - accuracy: 0.9702 - val_loss: 3.9424 - val_accuracy: 0.5220\n",
            "Epoch 73/100\n",
            "50000/50000 [==============================] - 11s 220us/step - loss: 0.0934 - accuracy: 0.9702 - val_loss: 3.9958 - val_accuracy: 0.5260\n",
            "Epoch 74/100\n",
            "50000/50000 [==============================] - 11s 220us/step - loss: 0.0880 - accuracy: 0.9712 - val_loss: 3.8125 - val_accuracy: 0.5249\n",
            "Epoch 75/100\n",
            "50000/50000 [==============================] - 11s 221us/step - loss: 0.0868 - accuracy: 0.9714 - val_loss: 3.9350 - val_accuracy: 0.5271\n",
            "Epoch 76/100\n",
            "50000/50000 [==============================] - 11s 219us/step - loss: 0.0919 - accuracy: 0.9708 - val_loss: 4.0466 - val_accuracy: 0.5342\n",
            "Epoch 77/100\n",
            "50000/50000 [==============================] - 11s 220us/step - loss: 0.0771 - accuracy: 0.9747 - val_loss: 3.8886 - val_accuracy: 0.5234\n",
            "Epoch 78/100\n",
            "50000/50000 [==============================] - 11s 221us/step - loss: 0.0985 - accuracy: 0.9686 - val_loss: 3.8331 - val_accuracy: 0.5262\n",
            "Epoch 79/100\n",
            "50000/50000 [==============================] - 11s 221us/step - loss: 0.0754 - accuracy: 0.9752 - val_loss: 3.9103 - val_accuracy: 0.5226\n",
            "Epoch 80/100\n",
            "50000/50000 [==============================] - 11s 219us/step - loss: 0.0782 - accuracy: 0.9747 - val_loss: 4.1047 - val_accuracy: 0.5307\n",
            "Epoch 81/100\n",
            "50000/50000 [==============================] - 11s 220us/step - loss: 0.0677 - accuracy: 0.9781 - val_loss: 4.2099 - val_accuracy: 0.5202\n",
            "Epoch 82/100\n",
            "50000/50000 [==============================] - 11s 220us/step - loss: 0.0866 - accuracy: 0.9719 - val_loss: 4.0091 - val_accuracy: 0.5264\n",
            "Epoch 83/100\n",
            "50000/50000 [==============================] - 11s 221us/step - loss: 0.0807 - accuracy: 0.9734 - val_loss: 4.0165 - val_accuracy: 0.5306\n",
            "Epoch 84/100\n",
            "50000/50000 [==============================] - 11s 218us/step - loss: 0.0731 - accuracy: 0.9762 - val_loss: 4.0900 - val_accuracy: 0.5283\n",
            "Epoch 85/100\n",
            "50000/50000 [==============================] - 11s 219us/step - loss: 0.0740 - accuracy: 0.9753 - val_loss: 4.1183 - val_accuracy: 0.5333\n",
            "Epoch 86/100\n",
            "50000/50000 [==============================] - 11s 220us/step - loss: 0.0867 - accuracy: 0.9728 - val_loss: 3.9772 - val_accuracy: 0.5289\n",
            "Epoch 87/100\n",
            "50000/50000 [==============================] - 11s 221us/step - loss: 0.0826 - accuracy: 0.9727 - val_loss: 3.9052 - val_accuracy: 0.5334\n",
            "Epoch 88/100\n",
            "50000/50000 [==============================] - 11s 220us/step - loss: 0.0748 - accuracy: 0.9763 - val_loss: 4.1363 - val_accuracy: 0.5289\n",
            "Epoch 89/100\n",
            "50000/50000 [==============================] - 11s 220us/step - loss: 0.0612 - accuracy: 0.9804 - val_loss: 4.3634 - val_accuracy: 0.5238\n",
            "Epoch 90/100\n",
            "50000/50000 [==============================] - 11s 222us/step - loss: 0.0814 - accuracy: 0.9747 - val_loss: 3.9487 - val_accuracy: 0.5270\n",
            "Epoch 91/100\n",
            "50000/50000 [==============================] - 11s 221us/step - loss: 0.0686 - accuracy: 0.9775 - val_loss: 4.1619 - val_accuracy: 0.5333\n",
            "Epoch 92/100\n",
            "50000/50000 [==============================] - 11s 222us/step - loss: 0.0701 - accuracy: 0.9770 - val_loss: 4.1410 - val_accuracy: 0.5311\n",
            "Epoch 93/100\n",
            "50000/50000 [==============================] - 11s 223us/step - loss: 0.0768 - accuracy: 0.9750 - val_loss: 4.0235 - val_accuracy: 0.5224\n",
            "Epoch 94/100\n",
            "50000/50000 [==============================] - 11s 221us/step - loss: 0.0682 - accuracy: 0.9783 - val_loss: 4.0965 - val_accuracy: 0.5257\n",
            "Epoch 95/100\n",
            "50000/50000 [==============================] - 11s 222us/step - loss: 0.0671 - accuracy: 0.9788 - val_loss: 4.0564 - val_accuracy: 0.5283\n",
            "Epoch 96/100\n",
            "50000/50000 [==============================] - 11s 222us/step - loss: 0.0609 - accuracy: 0.9799 - val_loss: 4.2771 - val_accuracy: 0.5328\n",
            "Epoch 97/100\n",
            "50000/50000 [==============================] - 11s 224us/step - loss: 0.0746 - accuracy: 0.9768 - val_loss: 4.0621 - val_accuracy: 0.5271\n",
            "Epoch 98/100\n",
            "50000/50000 [==============================] - 11s 222us/step - loss: 0.0702 - accuracy: 0.9775 - val_loss: 4.1415 - val_accuracy: 0.5323\n",
            "Epoch 99/100\n",
            "50000/50000 [==============================] - 11s 223us/step - loss: 0.0589 - accuracy: 0.9808 - val_loss: 4.2393 - val_accuracy: 0.5214\n",
            "Epoch 100/100\n",
            "50000/50000 [==============================] - 11s 223us/step - loss: 0.0752 - accuracy: 0.9755 - val_loss: 4.1682 - val_accuracy: 0.5309\n"
          ],
          "name": "stdout"
        },
        {
          "output_type": "execute_result",
          "data": {
            "text/plain": [
              "<keras.callbacks.callbacks.History at 0x7fe0995dd710>"
            ]
          },
          "metadata": {
            "tags": []
          },
          "execution_count": 47
        }
      ]
    },
    {
      "cell_type": "code",
      "metadata": {
        "id": "GnQTa96jiNx7",
        "colab_type": "code",
        "colab": {
          "base_uri": "https://localhost:8080/",
          "height": 545
        },
        "outputId": "4bc1bf7d-b843-4940-c77e-9a672dde6e60"
      },
      "source": [
        "# 訓練模型並檢視驗證集的結果\n",
        "import matplotlib.pyplot as plt\n",
        "\n",
        "train_loss = model.history.history[\"loss\"]\n",
        "valid_loss = model.history.history[\"val_loss\"]\n",
        "\n",
        "train_acc = model.history.history[\"accuracy\"]\n",
        "valid_acc = model.history.history[\"val_accuracy\"]\n",
        "\n",
        "plt.plot(range(len(train_loss)), train_loss, label=\"train loss\")\n",
        "plt.plot(range(len(valid_loss)), valid_loss, label=\"valid loss\")\n",
        "plt.legend()\n",
        "plt.title(\"Loss\")\n",
        "plt.show()\n",
        "\n",
        "plt.plot(range(len(train_acc)), train_acc, label=\"train accuracy\")\n",
        "plt.plot(range(len(valid_acc)), valid_acc, label=\"valid accuracy\")\n",
        "plt.legend()\n",
        "plt.title(\"Accuracy\")\n",
        "plt.show()"
      ],
      "execution_count": 48,
      "outputs": [
        {
          "output_type": "display_data",
          "data": {
            "image/png": "[encoded data removed]",
            "text/plain": [
              "<Figure size 432x288 with 1 Axes>"
            ]
          },
          "metadata": {
            "tags": [],
            "needs_background": "light"
          }
        },
        {
          "output_type": "display_data",
          "data": {
            "image/png": "[encoded data removed]",
            "text/plain": [
              "<Figure size 432x288 with 1 Axes>"
            ]
          },
          "metadata": {
            "tags": [],
            "needs_background": "light"
          }
        }
      ]
    }
  ]
}