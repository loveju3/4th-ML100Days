{
  "nbformat": 4,
  "nbformat_minor": 0,
  "metadata": {
    "colab": {
      "name": "Day077_HW.ipynb",
      "provenance": []
    },
    "kernelspec": {
      "name": "python3",
      "display_name": "Python 3"
    }
  },
  "cells": [
    {
      "cell_type": "code",
      "metadata": {
        "id": "UaCsoVNJgA51",
        "colab_type": "code",
        "colab": {
          "base_uri": "https://localhost:8080/",
          "height": 33
        },
        "outputId": "81a9ea33-e5b2-4168-9c17-419443b1ae07"
      },
      "source": [
        "import os\n",
        "import keras\n",
        "\n",
        "# 本作業可以不需使用 GPU, 將 GPU 設定為 \"無\" (若有 GPU 且想開啟，可設為 \"0\")\n",
        "os.environ[\"CUDA_VISIBLE_DEVICES\"] = \"\""
      ],
      "execution_count": 1,
      "outputs": [
        {
          "output_type": "stream",
          "text": [
            "Using TensorFlow backend.\n"
          ],
          "name": "stderr"
        }
      ]
    },
    {
      "cell_type": "code",
      "metadata": {
        "id": "0xnr6qjKgHKb",
        "colab_type": "code",
        "colab": {
          "base_uri": "https://localhost:8080/",
          "height": 50
        },
        "outputId": "463b3f37-9f90-4469-949d-3c67d8152095"
      },
      "source": [
        "# 從 Keras 的內建功能中，取得 train 與 test 資料集\n",
        "train, test = keras.datasets.cifar10.load_data()"
      ],
      "execution_count": 2,
      "outputs": [
        {
          "output_type": "stream",
          "text": [
            "Downloading data from https://www.cs.toronto.edu/~kriz/cifar-10-python.tar.gz\n",
            "170500096/170498071 [==============================] - 3s 0us/step\n"
          ],
          "name": "stdout"
        }
      ]
    },
    {
      "cell_type": "code",
      "metadata": {
        "id": "LPWktQZigJD7",
        "colab_type": "code",
        "colab": {}
      },
      "source": [
        "# 將 X 與 Y 獨立放進變數\n",
        "x_train, y_train = train\n",
        "x_test, y_test = test\n",
        "# 資料前處理 - 標準化\n",
        "x_train = x_train / 255.\n",
        "x_test = x_test / 255.\n",
        "\n",
        "# 將資料從圖形 (RGB) 轉為向量 (Single Vector)\n",
        "x_train = x_train.reshape((len(x_train), -1))\n",
        "x_test = x_test.reshape((len(x_test), -1))\n",
        "\n",
        "# 將目標轉為 one-hot encoding\n",
        "y_train = keras.utils.to_categorical(y_train, num_classes=10)\n",
        "y_test = keras.utils.to_categorical(y_test, num_classes=10)"
      ],
      "execution_count": 3,
      "outputs": []
    },
    {
      "cell_type": "code",
      "metadata": {
        "id": "UYj5Qo8BgMQi",
        "colab_type": "code",
        "colab": {}
      },
      "source": [
        "def build_mlp():\n",
        "    \"\"\"Code Here\n",
        "    建立你的神經網路\n",
        "    \"\"\"\n",
        "    input_layer = keras.layers.Input([x_train.shape[-1]])\n",
        "    x = keras.layers.Dense(units=512, activation=\"relu\")(input_layer)\n",
        "    x = keras.layers.Dense(units=256, activation=\"relu\")(x)\n",
        "    x = keras.layers.Dense(units=128, activation=\"relu\")(x)\n",
        "    x = keras.layers.Dense(units=128, activation=\"relu\")(x)\n",
        "    out = keras.layers.Dense(units=10, activation=\"softmax\")(x)\n",
        "    \n",
        "    model = keras.models.Model(inputs=[input_layer], outputs=[out])\n",
        "\n",
        "    return model\n",
        "model = build_mlp()"
      ],
      "execution_count": 4,
      "outputs": []
    },
    {
      "cell_type": "code",
      "metadata": {
        "id": "gcMHB6aCgM6T",
        "colab_type": "code",
        "colab": {
          "base_uri": "https://localhost:8080/",
          "height": 351
        },
        "outputId": "c7c3b9ff-8e2a-467e-f1f8-06496b233d07"
      },
      "source": [
        "\"\"\"\n",
        "Compile 模型\n",
        "\"\"\"\n",
        "\n",
        "model = build_mlp()\n",
        "# 用 Keras 內建方法檢視模型各層參數量\n",
        "model.summary()\n",
        "\n",
        "optimizer = keras.optimizers.Adam(lr=0.001)\n",
        "model.compile(loss=\"categorical_crossentropy\", metrics=[\"accuracy\"], optimizer=optimizer)\n"
      ],
      "execution_count": 5,
      "outputs": [
        {
          "output_type": "stream",
          "text": [
            "Model: \"model_2\"\n",
            "_________________________________________________________________\n",
            "Layer (type)                 Output Shape              Param #   \n",
            "=================================================================\n",
            "input_2 (InputLayer)         (None, 3072)              0         \n",
            "_________________________________________________________________\n",
            "dense_6 (Dense)              (None, 512)               1573376   \n",
            "_________________________________________________________________\n",
            "dense_7 (Dense)              (None, 256)               131328    \n",
            "_________________________________________________________________\n",
            "dense_8 (Dense)              (None, 128)               32896     \n",
            "_________________________________________________________________\n",
            "dense_9 (Dense)              (None, 128)               16512     \n",
            "_________________________________________________________________\n",
            "dense_10 (Dense)             (None, 10)                1290      \n",
            "=================================================================\n",
            "Total params: 1,755,402\n",
            "Trainable params: 1,755,402\n",
            "Non-trainable params: 0\n",
            "_________________________________________________________________\n"
          ],
          "name": "stdout"
        }
      ]
    },
    {
      "cell_type": "code",
      "metadata": {
        "id": "LPffpfpZgOTz",
        "colab_type": "code",
        "colab": {
          "base_uri": "https://localhost:8080/",
          "height": 1000
        },
        "outputId": "b04774d7-65f4-47ce-e8fb-0c8e0abc122b"
      },
      "source": [
        "\"\"\"\n",
        "設定要訓練的 Epoch 數\n",
        "\"\"\"\n",
        "model.fit(x_train, y_train, \n",
        "          epochs=50, \n",
        "          batch_size=256, \n",
        "          validation_data=(x_test, y_test), \n",
        "          shuffle=True)"
      ],
      "execution_count": 6,
      "outputs": [
        {
          "output_type": "stream",
          "text": [
            "Train on 50000 samples, validate on 10000 samples\n",
            "Epoch 1/50\n",
            "50000/50000 [==============================] - 12s 232us/step - loss: 1.9236 - accuracy: 0.2989 - val_loss: 1.7443 - val_accuracy: 0.3677\n",
            "Epoch 2/50\n",
            "50000/50000 [==============================] - 11s 225us/step - loss: 1.7020 - accuracy: 0.3904 - val_loss: 1.6525 - val_accuracy: 0.4031\n",
            "Epoch 3/50\n",
            "50000/50000 [==============================] - 12s 232us/step - loss: 1.6074 - accuracy: 0.4229 - val_loss: 1.5649 - val_accuracy: 0.4390\n",
            "Epoch 4/50\n",
            "50000/50000 [==============================] - 12s 236us/step - loss: 1.5558 - accuracy: 0.4419 - val_loss: 1.6355 - val_accuracy: 0.4139\n",
            "Epoch 5/50\n",
            "50000/50000 [==============================] - 12s 231us/step - loss: 1.4990 - accuracy: 0.4638 - val_loss: 1.5144 - val_accuracy: 0.4646\n",
            "Epoch 6/50\n",
            "50000/50000 [==============================] - 12s 232us/step - loss: 1.4635 - accuracy: 0.4763 - val_loss: 1.5007 - val_accuracy: 0.4653\n",
            "Epoch 7/50\n",
            "50000/50000 [==============================] - 12s 231us/step - loss: 1.4331 - accuracy: 0.4877 - val_loss: 1.4563 - val_accuracy: 0.4801\n",
            "Epoch 8/50\n",
            "50000/50000 [==============================] - 12s 231us/step - loss: 1.3959 - accuracy: 0.5000 - val_loss: 1.4266 - val_accuracy: 0.4954\n",
            "Epoch 9/50\n",
            "50000/50000 [==============================] - 12s 231us/step - loss: 1.3648 - accuracy: 0.5128 - val_loss: 1.4289 - val_accuracy: 0.4954\n",
            "Epoch 10/50\n",
            "50000/50000 [==============================] - 12s 232us/step - loss: 1.3467 - accuracy: 0.5215 - val_loss: 1.4539 - val_accuracy: 0.4773\n",
            "Epoch 11/50\n",
            "50000/50000 [==============================] - 12s 230us/step - loss: 1.3222 - accuracy: 0.5316 - val_loss: 1.4438 - val_accuracy: 0.4954\n",
            "Epoch 12/50\n",
            "50000/50000 [==============================] - 12s 231us/step - loss: 1.3001 - accuracy: 0.5367 - val_loss: 1.4005 - val_accuracy: 0.5045\n",
            "Epoch 13/50\n",
            "50000/50000 [==============================] - 12s 231us/step - loss: 1.2641 - accuracy: 0.5480 - val_loss: 1.4373 - val_accuracy: 0.4919\n",
            "Epoch 14/50\n",
            "50000/50000 [==============================] - 12s 231us/step - loss: 1.2571 - accuracy: 0.5511 - val_loss: 1.3922 - val_accuracy: 0.5129\n",
            "Epoch 15/50\n",
            "50000/50000 [==============================] - 12s 230us/step - loss: 1.2302 - accuracy: 0.5588 - val_loss: 1.3878 - val_accuracy: 0.5096\n",
            "Epoch 16/50\n",
            "50000/50000 [==============================] - 11s 230us/step - loss: 1.2020 - accuracy: 0.5708 - val_loss: 1.3680 - val_accuracy: 0.5130\n",
            "Epoch 17/50\n",
            "50000/50000 [==============================] - 12s 231us/step - loss: 1.1775 - accuracy: 0.5819 - val_loss: 1.3866 - val_accuracy: 0.5119\n",
            "Epoch 18/50\n",
            "50000/50000 [==============================] - 11s 229us/step - loss: 1.1658 - accuracy: 0.5832 - val_loss: 1.3652 - val_accuracy: 0.5251\n",
            "Epoch 19/50\n",
            "50000/50000 [==============================] - 12s 232us/step - loss: 1.1395 - accuracy: 0.5930 - val_loss: 1.3694 - val_accuracy: 0.5207\n",
            "Epoch 20/50\n",
            "50000/50000 [==============================] - 12s 233us/step - loss: 1.1163 - accuracy: 0.6033 - val_loss: 1.4166 - val_accuracy: 0.5124\n",
            "Epoch 21/50\n",
            "50000/50000 [==============================] - 12s 232us/step - loss: 1.1005 - accuracy: 0.6072 - val_loss: 1.4068 - val_accuracy: 0.5076\n",
            "Epoch 22/50\n",
            "50000/50000 [==============================] - 12s 232us/step - loss: 1.0758 - accuracy: 0.6173 - val_loss: 1.3622 - val_accuracy: 0.5258\n",
            "Epoch 23/50\n",
            "50000/50000 [==============================] - 12s 231us/step - loss: 1.0602 - accuracy: 0.6207 - val_loss: 1.3815 - val_accuracy: 0.5159\n",
            "Epoch 24/50\n",
            "50000/50000 [==============================] - 12s 231us/step - loss: 1.0387 - accuracy: 0.6304 - val_loss: 1.4061 - val_accuracy: 0.5153\n",
            "Epoch 25/50\n",
            "50000/50000 [==============================] - 12s 232us/step - loss: 1.0251 - accuracy: 0.6348 - val_loss: 1.4613 - val_accuracy: 0.5076\n",
            "Epoch 26/50\n",
            "50000/50000 [==============================] - 12s 231us/step - loss: 0.9998 - accuracy: 0.6456 - val_loss: 1.4741 - val_accuracy: 0.5054\n",
            "Epoch 27/50\n",
            "50000/50000 [==============================] - 12s 230us/step - loss: 0.9788 - accuracy: 0.6502 - val_loss: 1.4295 - val_accuracy: 0.5214\n",
            "Epoch 28/50\n",
            "50000/50000 [==============================] - 12s 232us/step - loss: 0.9696 - accuracy: 0.6539 - val_loss: 1.4145 - val_accuracy: 0.5255\n",
            "Epoch 29/50\n",
            "50000/50000 [==============================] - 12s 232us/step - loss: 0.9382 - accuracy: 0.6643 - val_loss: 1.4489 - val_accuracy: 0.5213\n",
            "Epoch 30/50\n",
            "50000/50000 [==============================] - 12s 235us/step - loss: 0.9212 - accuracy: 0.6712 - val_loss: 1.4931 - val_accuracy: 0.5120\n",
            "Epoch 31/50\n",
            "50000/50000 [==============================] - 12s 234us/step - loss: 0.8993 - accuracy: 0.6793 - val_loss: 1.5105 - val_accuracy: 0.5192\n",
            "Epoch 32/50\n",
            "50000/50000 [==============================] - 12s 231us/step - loss: 0.8813 - accuracy: 0.6862 - val_loss: 1.4877 - val_accuracy: 0.5188\n",
            "Epoch 33/50\n",
            "50000/50000 [==============================] - 12s 231us/step - loss: 0.8533 - accuracy: 0.6952 - val_loss: 1.5116 - val_accuracy: 0.5175\n",
            "Epoch 34/50\n",
            "50000/50000 [==============================] - 11s 229us/step - loss: 0.8546 - accuracy: 0.6946 - val_loss: 1.5293 - val_accuracy: 0.5239\n",
            "Epoch 35/50\n",
            "50000/50000 [==============================] - 11s 230us/step - loss: 0.8336 - accuracy: 0.7034 - val_loss: 1.5650 - val_accuracy: 0.5125\n",
            "Epoch 36/50\n",
            "50000/50000 [==============================] - 14s 288us/step - loss: 0.8179 - accuracy: 0.7087 - val_loss: 1.5453 - val_accuracy: 0.5255\n",
            "Epoch 37/50\n",
            "50000/50000 [==============================] - 12s 233us/step - loss: 0.7959 - accuracy: 0.7134 - val_loss: 1.6183 - val_accuracy: 0.5218\n",
            "Epoch 38/50\n",
            "50000/50000 [==============================] - 12s 233us/step - loss: 0.7804 - accuracy: 0.7184 - val_loss: 1.6069 - val_accuracy: 0.5190\n",
            "Epoch 39/50\n",
            "50000/50000 [==============================] - 12s 230us/step - loss: 0.7669 - accuracy: 0.7254 - val_loss: 1.6467 - val_accuracy: 0.5065\n",
            "Epoch 40/50\n",
            "50000/50000 [==============================] - 12s 231us/step - loss: 0.7538 - accuracy: 0.7301 - val_loss: 1.6581 - val_accuracy: 0.5204\n",
            "Epoch 41/50\n",
            "50000/50000 [==============================] - 12s 231us/step - loss: 0.7350 - accuracy: 0.7362 - val_loss: 1.6553 - val_accuracy: 0.5197\n",
            "Epoch 42/50\n",
            "50000/50000 [==============================] - 12s 231us/step - loss: 0.7119 - accuracy: 0.7453 - val_loss: 1.7016 - val_accuracy: 0.5174\n",
            "Epoch 43/50\n",
            "50000/50000 [==============================] - 12s 230us/step - loss: 0.7014 - accuracy: 0.7487 - val_loss: 1.7411 - val_accuracy: 0.5090\n",
            "Epoch 44/50\n",
            "50000/50000 [==============================] - 12s 232us/step - loss: 0.6974 - accuracy: 0.7487 - val_loss: 1.7709 - val_accuracy: 0.5098\n",
            "Epoch 45/50\n",
            "50000/50000 [==============================] - 12s 233us/step - loss: 0.6759 - accuracy: 0.7580 - val_loss: 1.7876 - val_accuracy: 0.5117\n",
            "Epoch 46/50\n",
            "50000/50000 [==============================] - 12s 232us/step - loss: 0.6699 - accuracy: 0.7588 - val_loss: 1.7957 - val_accuracy: 0.5173\n",
            "Epoch 47/50\n",
            "50000/50000 [==============================] - 12s 231us/step - loss: 0.6431 - accuracy: 0.7695 - val_loss: 1.8328 - val_accuracy: 0.5166\n",
            "Epoch 48/50\n",
            "50000/50000 [==============================] - 12s 231us/step - loss: 0.6323 - accuracy: 0.7732 - val_loss: 1.8666 - val_accuracy: 0.5151\n",
            "Epoch 49/50\n",
            "50000/50000 [==============================] - 12s 230us/step - loss: 0.6297 - accuracy: 0.7740 - val_loss: 1.8928 - val_accuracy: 0.5145\n",
            "Epoch 50/50\n",
            "50000/50000 [==============================] - 11s 230us/step - loss: 0.6221 - accuracy: 0.7774 - val_loss: 1.8927 - val_accuracy: 0.5169\n"
          ],
          "name": "stdout"
        },
        {
          "output_type": "execute_result",
          "data": {
            "text/plain": [
              "<keras.callbacks.callbacks.History at 0x7f2995920470>"
            ]
          },
          "metadata": {
            "tags": []
          },
          "execution_count": 6
        }
      ]
    },
    {
      "cell_type": "code",
      "metadata": {
        "id": "fFeJeUSigPy7",
        "colab_type": "code",
        "colab": {
          "base_uri": "https://localhost:8080/",
          "height": 545
        },
        "outputId": "9e04acc5-0697-46ce-bf34-085a08974d6a"
      },
      "source": [
        "import matplotlib.pyplot as plt\n",
        "# 以視覺畫方式檢視訓練過程\n",
        "\n",
        "train_loss = model.history.history[\"loss\"]\n",
        "valid_loss = model.history.history[\"val_loss\"]\n",
        "\n",
        "train_acc = model.history.history[\"accuracy\"]\n",
        "valid_acc = model.history.history[\"val_accuracy\"]\n",
        "\n",
        "plt.plot(range(len(train_loss)), train_loss, label=\"train loss\")\n",
        "plt.plot(range(len(valid_loss)), valid_loss, label=\"valid loss\")\n",
        "plt.legend()\n",
        "plt.title(\"Loss\")\n",
        "plt.show()\n",
        "\n",
        "plt.plot(range(len(train_acc)), train_acc, label=\"train accuracy\")\n",
        "plt.plot(range(len(valid_acc)), valid_acc, label=\"valid accuracy\")\n",
        "plt.legend()\n",
        "plt.title(\"Accuracy\")\n",
        "plt.show()"
      ],
      "execution_count": 9,
      "outputs": [
        {
          "output_type": "display_data",
          "data": {
            "image/png": "[encoded data removed]",
            "text/plain": [
              "<Figure size 432x288 with 1 Axes>"
            ]
          },
          "metadata": {
            "tags": [],
            "needs_background": "light"
          }
        },
        {
          "output_type": "display_data",
          "data": {
            "image/png": "[encoded data removed]",
            "text/plain": [
              "<Figure size 432x288 with 1 Axes>"
            ]
          },
          "metadata": {
            "tags": [],
            "needs_background": "light"
          }
        }
      ]
    }
  ]
}