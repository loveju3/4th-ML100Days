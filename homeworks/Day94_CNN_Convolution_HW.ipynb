{
  "nbformat": 4,
  "nbformat_minor": 0,
  "metadata": {
    "colab": {
      "name": "Day94-CNN_Convolution_HW.ipynb",
      "provenance": []
    },
    "kernelspec": {
      "name": "python3",
      "display_name": "Python 3"
    }
  },
  "cells": [
    {
      "cell_type": "code",
      "metadata": {
        "id": "_pFJDH-u5Eid",
        "colab_type": "code",
        "colab": {}
      },
      "source": [
        "import numpy as np"
      ],
      "execution_count": 1,
      "outputs": []
    },
    {
      "cell_type": "code",
      "metadata": {
        "id": "jYTXFgzl5XQG",
        "colab_type": "code",
        "colab": {}
      },
      "source": [
        "# GRADED FUNCTION: conv_single_step\n",
        "def conv_single_step(a_slice_prev, W, b):\n",
        "    \"\"\"\n",
        "    定義一層 Kernel (內核), 使用的參數說明如下\n",
        "    Arguments:\n",
        "        a_slice_prev -- 輸入資料的維度\n",
        "        W -- 權重, 被使用在 a_slice_prev\n",
        "        b -- 偏差參數 \n",
        "    Returns:\n",
        "        Z -- 滑動窗口（W，b）卷積在前一個 feature map 上的結果\n",
        "    \"\"\"\n",
        "\n",
        "    # 定義一個元素介於 a_slice and W\n",
        "    s = a_slice_prev * W\n",
        "    # 加總所有的 \"s\" 並指定給Z.\n",
        "    Z = np.sum(s)\n",
        "    # Add bias b to Z. 這是 float() 函數, \n",
        "    Z = float(Z + b)\n",
        "\n",
        "    return Z"
      ],
      "execution_count": 2,
      "outputs": []
    },
    {
      "cell_type": "code",
      "metadata": {
        "id": "GZB3XqxA5lcF",
        "colab_type": "code",
        "colab": {
          "base_uri": "https://localhost:8080/",
          "height": 33
        },
        "outputId": "fb65b61d-7895-4114-bd76-33eb929d0939"
      },
      "source": [
        "'''\n",
        "seed( ) 用於指定隨機數生成時所用算法開始的整數值，\n",
        "如果使用相同的seed( )值，則每次生成的隨即數都相同，\n",
        "如果不設置這個值，則係統根據時間來自己選擇這個值，\n",
        "此時每次生成的隨機數因時間差異而不同。\n",
        "'''\n",
        "np.random.seed(1)\n",
        "#定義一個 4x4x3 的 feature map\n",
        "a_slice_prev = np.random.randn(3, 3, 3)\n",
        "W = np.random.randn(3, 3, 3)\n",
        "b = np.random.randn(1, 1, 1)\n",
        "\n",
        "#取得計算後,卷績矩陣的值\n",
        "Z = conv_single_step(a_slice_prev, W, b)\n",
        "print(\"Z =\", Z)"
      ],
      "execution_count": 5,
      "outputs": [
        {
          "output_type": "stream",
          "text": [
            "Z = -5.19283565556167\n"
          ],
          "name": "stdout"
        }
      ]
    }
  ]
}