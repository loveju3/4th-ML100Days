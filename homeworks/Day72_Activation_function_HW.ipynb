{
  "nbformat": 4,
  "nbformat_minor": 0,
  "metadata": {
    "colab": {
      "name": "Day72-Activation_function_HW.ipynb",
      "provenance": []
    },
    "kernelspec": {
      "name": "python3",
      "display_name": "Python 3"
    }
  },
  "cells": [
    {
      "cell_type": "code",
      "metadata": {
        "id": "RbXD79FFY4yZ",
        "colab_type": "code",
        "colab": {
          "base_uri": "https://localhost:8080/",
          "height": 33
        },
        "outputId": "2da2aff0-3b22-4b08-dc1a-ebeb17ed5e74"
      },
      "source": [
        "\n",
        "import numpy as np\n",
        "from numpy import *\n",
        "import matplotlib.pylab as plt\n",
        "%matplotlib inline\n",
        "\n",
        "'''\n",
        "作業:\n",
        "    寫出 ReLU & dReLU 一階導數\n",
        "    並列印\n",
        "'''"
      ],
      "execution_count": 45,
      "outputs": [
        {
          "output_type": "execute_result",
          "data": {
            "text/plain": [
              "'\\n作業:\\n    寫出 ReLU & dReLU 一階導數\\n    並列印\\n'"
            ]
          },
          "metadata": {
            "tags": []
          },
          "execution_count": 45
        }
      ]
    },
    {
      "cell_type": "code",
      "metadata": {
        "id": "XOJBPZSqWySf",
        "colab_type": "code",
        "colab": {
          "base_uri": "https://localhost:8080/",
          "height": 281
        },
        "outputId": "2f3d47ec-de2c-47c3-d0d8-cbcf190cb69e"
      },
      "source": [
        "def ReLU(x):\n",
        "    a = x > 0\n",
        "    b = abs(x)\n",
        "    return a*b\n",
        "# linespace generate an array from start and stop value\n",
        "# with requested number of elements. Example 10 elements or 100 elements.\n",
        "x = plt.linspace(-10,10,100)\n",
        "\n",
        "# prepare the plot, associate the color r(ed) or b(lue) and the label \n",
        "plt.plot(x, ReLU(x), 'b', label='linspace(-10,10,10)')\n",
        "\n",
        "# Draw the grid line in background.\n",
        "plt.grid()\n",
        "\n",
        "# 顯現圖示的Title\n",
        "plt.title('ReLU Function')\n",
        "\n",
        "plt.text(4, 0.8, 'ReLU(x)', fontsize=15)\n",
        "\n",
        " \n",
        "# create the graph\n",
        "plt.show()"
      ],
      "execution_count": 48,
      "outputs": [
        {
          "output_type": "display_data",
          "data": {
            "image/png": "[encoded data removed]",
            "text/plain": [
              "<Figure size 432x288 with 1 Axes>"
            ]
          },
          "metadata": {
            "tags": [],
            "needs_background": "light"
          }
        }
      ]
    }
  ]
}