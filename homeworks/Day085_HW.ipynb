{
  "nbformat": 4,
  "nbformat_minor": 0,
  "metadata": {
    "colab": {
      "name": "Day085_HW.ipynb",
      "provenance": []
    },
    "kernelspec": {
      "name": "python3",
      "display_name": "Python 3"
    }
  },
  "cells": [
    {
      "cell_type": "code",
      "metadata": {
        "id": "8fJdu8JPFLJW",
        "colab_type": "code",
        "colab": {}
      },
      "source": [
        "import os\n",
        "import keras\n",
        "import matplotlib.pyplot as plt\n",
        "%matplotlib inline\n",
        "\n",
        "\n",
        "# Disable GPU\n",
        "os.environ[\"CUDA_VISIBLE_DEVICES\"] = \"\""
      ],
      "execution_count": 8,
      "outputs": []
    },
    {
      "cell_type": "code",
      "metadata": {
        "id": "S396pkkqFrnO",
        "colab_type": "code",
        "colab": {}
      },
      "source": [
        "train, test = keras.datasets.cifar10.load_data()"
      ],
      "execution_count": 9,
      "outputs": []
    },
    {
      "cell_type": "code",
      "metadata": {
        "id": "2hDh52r3FtTl",
        "colab_type": "code",
        "colab": {}
      },
      "source": [
        "## 資料前處理\n",
        "def preproc_x(x, flatten=True):\n",
        "    x = x / 255.\n",
        "    if flatten:\n",
        "        x = x.reshape((len(x), -1))\n",
        "    return x\n",
        "\n",
        "def preproc_y(y, num_classes=10):\n",
        "    if y.shape[-1] == 1:\n",
        "        y = keras.utils.to_categorical(y, num_classes)\n",
        "    return y  "
      ],
      "execution_count": 10,
      "outputs": []
    },
    {
      "cell_type": "code",
      "metadata": {
        "id": "xigv0E_DFu_F",
        "colab_type": "code",
        "colab": {}
      },
      "source": [
        "x_train, y_train = train\n",
        "x_test, y_test = test\n",
        "\n",
        "# Preproc the inputs\n",
        "x_train = preproc_x(x_train)\n",
        "x_test = preproc_x(x_test)\n",
        "\n",
        "# Preprc the outputs\n",
        "y_train = preproc_y(y_train)\n",
        "y_test = preproc_y(y_test)"
      ],
      "execution_count": 11,
      "outputs": []
    },
    {
      "cell_type": "code",
      "metadata": {
        "id": "hR0be-p7Fzgk",
        "colab_type": "code",
        "colab": {}
      },
      "source": [
        "from keras.layers import BatchNormalization\n",
        "\n",
        "\"\"\"\n",
        "建立神經網路，並加入 BN layer\n",
        "\"\"\"\n",
        "def build_mlp(input_shape, output_units=10, num_neurons=[512, 256, 128]):\n",
        "    input_layer = keras.layers.Input(input_shape)\n",
        "    \n",
        "    for i, n_units in enumerate(num_neurons):\n",
        "        if i == 0:\n",
        "            x = keras.layers.Dense(units=n_units, \n",
        "                                   activation=\"relu\", \n",
        "                                   name=\"hidden_layer\"+str(i+1))(input_layer)\n",
        "            x = BatchNormalization()(x)\n",
        "        else:\n",
        "            x = keras.layers.Dense(units=n_units, \n",
        "                                   activation=\"relu\", \n",
        "                                   name=\"hidden_layer\"+str(i+1))(x)\n",
        "            x = BatchNormalization()(x)\n",
        "    \n",
        "    out = keras.layers.Dense(units=output_units, activation=\"softmax\", name=\"output\")(x)\n",
        "    \n",
        "    model = keras.models.Model(inputs=[input_layer], outputs=[out])\n",
        "    return model"
      ],
      "execution_count": 12,
      "outputs": []
    },
    {
      "cell_type": "code",
      "metadata": {
        "id": "YWDIXeUvF1Zc",
        "colab_type": "code",
        "colab": {}
      },
      "source": [
        "## 超參數設定\n",
        "LEARNING_RATE = 1e-3\n",
        "EPOCHS = 30\n",
        "BATCH_SIZE = 1024\n",
        "MOMENTUM = 0.95"
      ],
      "execution_count": 13,
      "outputs": []
    },
    {
      "cell_type": "code",
      "metadata": {
        "id": "3sZaHvD5F5Jc",
        "colab_type": "code",
        "colab": {}
      },
      "source": [
        "\"\"\"\n",
        "# 載入 Callbacks, 並將 monitor 設定為監控 validation loss\n",
        "\"\"\"\n",
        "from keras.callbacks import EarlyStopping\n",
        "\n",
        "earlystop = EarlyStopping(monitor=\"val_loss\", \n",
        "                          patience=5, \n",
        "                          verbose=1\n",
        "                          )"
      ],
      "execution_count": 14,
      "outputs": []
    },
    {
      "cell_type": "code",
      "metadata": {
        "id": "VglJOR5-F7K0",
        "colab_type": "code",
        "colab": {
          "base_uri": "https://localhost:8080/",
          "height": 1000
        },
        "outputId": "3835be99-9c6e-4956-944c-1be6e4a7880e"
      },
      "source": [
        "model = build_mlp(input_shape=x_train.shape[1:])\n",
        "model.summary()\n",
        "optimizer = keras.optimizers.SGD(lr=LEARNING_RATE, nesterov=True, momentum=MOMENTUM)\n",
        "model.compile(loss=\"categorical_crossentropy\", metrics=[\"accuracy\"], optimizer=optimizer)\n",
        "\n",
        "model.fit(x_train, y_train, \n",
        "          epochs=EPOCHS, \n",
        "          batch_size=BATCH_SIZE, \n",
        "          validation_data=(x_test, y_test), \n",
        "          shuffle=True,\n",
        "          callbacks=[earlystop]\n",
        "         )\n",
        "\n",
        "# Collect results\n",
        "train_loss = model.history.history[\"loss\"]\n",
        "valid_loss = model.history.history[\"val_loss\"]\n",
        "train_acc = model.history.history[\"accuracy\"]\n",
        "valid_acc = model.history.history[\"val_accuracy\"]"
      ],
      "execution_count": 15,
      "outputs": [
        {
          "output_type": "stream",
          "text": [
            "Model: \"model_1\"\n",
            "_________________________________________________________________\n",
            "Layer (type)                 Output Shape              Param #   \n",
            "=================================================================\n",
            "input_1 (InputLayer)         (None, 3072)              0         \n",
            "_________________________________________________________________\n",
            "hidden_layer1 (Dense)        (None, 512)               1573376   \n",
            "_________________________________________________________________\n",
            "batch_normalization_1 (Batch (None, 512)               2048      \n",
            "_________________________________________________________________\n",
            "hidden_layer2 (Dense)        (None, 256)               131328    \n",
            "_________________________________________________________________\n",
            "batch_normalization_2 (Batch (None, 256)               1024      \n",
            "_________________________________________________________________\n",
            "hidden_layer3 (Dense)        (None, 128)               32896     \n",
            "_________________________________________________________________\n",
            "batch_normalization_3 (Batch (None, 128)               512       \n",
            "_________________________________________________________________\n",
            "output (Dense)               (None, 10)                1290      \n",
            "=================================================================\n",
            "Total params: 1,742,474\n",
            "Trainable params: 1,740,682\n",
            "Non-trainable params: 1,792\n",
            "_________________________________________________________________\n",
            "Train on 50000 samples, validate on 10000 samples\n",
            "Epoch 1/30\n",
            "50000/50000 [==============================] - 9s 186us/step - loss: 2.2102 - accuracy: 0.2698 - val_loss: 2.0991 - val_accuracy: 0.2537\n",
            "Epoch 2/30\n",
            "50000/50000 [==============================] - 9s 174us/step - loss: 1.7328 - accuracy: 0.3945 - val_loss: 1.9359 - val_accuracy: 0.3206\n",
            "Epoch 3/30\n",
            "50000/50000 [==============================] - 9s 174us/step - loss: 1.6133 - accuracy: 0.4354 - val_loss: 1.8087 - val_accuracy: 0.3785\n",
            "Epoch 4/30\n",
            "50000/50000 [==============================] - 9s 175us/step - loss: 1.5425 - accuracy: 0.4588 - val_loss: 1.7287 - val_accuracy: 0.3975\n",
            "Epoch 5/30\n",
            "50000/50000 [==============================] - 9s 173us/step - loss: 1.4893 - accuracy: 0.4793 - val_loss: 1.6443 - val_accuracy: 0.4277\n",
            "Epoch 6/30\n",
            "50000/50000 [==============================] - 9s 174us/step - loss: 1.4424 - accuracy: 0.4958 - val_loss: 1.5928 - val_accuracy: 0.4402\n",
            "Epoch 7/30\n",
            "50000/50000 [==============================] - 9s 174us/step - loss: 1.4032 - accuracy: 0.5086 - val_loss: 1.5712 - val_accuracy: 0.4416\n",
            "Epoch 8/30\n",
            "50000/50000 [==============================] - 9s 176us/step - loss: 1.3677 - accuracy: 0.5213 - val_loss: 1.5371 - val_accuracy: 0.4507\n",
            "Epoch 9/30\n",
            "50000/50000 [==============================] - 9s 175us/step - loss: 1.3364 - accuracy: 0.5340 - val_loss: 1.5016 - val_accuracy: 0.4664\n",
            "Epoch 10/30\n",
            "50000/50000 [==============================] - 9s 175us/step - loss: 1.3061 - accuracy: 0.5445 - val_loss: 1.5025 - val_accuracy: 0.4665\n",
            "Epoch 11/30\n",
            "50000/50000 [==============================] - 9s 174us/step - loss: 1.2793 - accuracy: 0.5535 - val_loss: 1.4848 - val_accuracy: 0.4720\n",
            "Epoch 12/30\n",
            "50000/50000 [==============================] - 9s 174us/step - loss: 1.2517 - accuracy: 0.5636 - val_loss: 1.4835 - val_accuracy: 0.4745\n",
            "Epoch 13/30\n",
            "50000/50000 [==============================] - 9s 174us/step - loss: 1.2259 - accuracy: 0.5729 - val_loss: 1.4693 - val_accuracy: 0.4809\n",
            "Epoch 14/30\n",
            "50000/50000 [==============================] - 9s 174us/step - loss: 1.2004 - accuracy: 0.5830 - val_loss: 1.4734 - val_accuracy: 0.4791\n",
            "Epoch 15/30\n",
            "50000/50000 [==============================] - 9s 174us/step - loss: 1.1784 - accuracy: 0.5915 - val_loss: 1.4671 - val_accuracy: 0.4843\n",
            "Epoch 16/30\n",
            "50000/50000 [==============================] - 9s 174us/step - loss: 1.1529 - accuracy: 0.6003 - val_loss: 1.4545 - val_accuracy: 0.4911\n",
            "Epoch 17/30\n",
            "50000/50000 [==============================] - 9s 174us/step - loss: 1.1291 - accuracy: 0.6082 - val_loss: 1.4819 - val_accuracy: 0.4794\n",
            "Epoch 18/30\n",
            "50000/50000 [==============================] - 9s 174us/step - loss: 1.1061 - accuracy: 0.6189 - val_loss: 1.4546 - val_accuracy: 0.4840\n",
            "Epoch 19/30\n",
            "50000/50000 [==============================] - 9s 175us/step - loss: 1.0834 - accuracy: 0.6286 - val_loss: 1.4610 - val_accuracy: 0.4888\n",
            "Epoch 20/30\n",
            "50000/50000 [==============================] - 9s 175us/step - loss: 1.0588 - accuracy: 0.6371 - val_loss: 1.4638 - val_accuracy: 0.4881\n",
            "Epoch 21/30\n",
            "50000/50000 [==============================] - 9s 177us/step - loss: 1.0387 - accuracy: 0.6458 - val_loss: 1.4662 - val_accuracy: 0.4846\n",
            "Epoch 00021: early stopping\n"
          ],
          "name": "stdout"
        }
      ]
    },
    {
      "cell_type": "code",
      "metadata": {
        "id": "KWIlDuEHGA0z",
        "colab_type": "code",
        "colab": {
          "base_uri": "https://localhost:8080/",
          "height": 545
        },
        "outputId": "bf67f263-289a-42ec-ea83-1046ace8c94e"
      },
      "source": [
        "import matplotlib.pyplot as plt\n",
        "%matplotlib inline\n",
        "\n",
        "plt.plot(range(len(train_loss)), train_loss, label=\"train loss\")\n",
        "plt.plot(range(len(valid_loss)), valid_loss, label=\"valid loss\")\n",
        "plt.legend()\n",
        "plt.title(\"Loss\")\n",
        "plt.show()\n",
        "\n",
        "plt.plot(range(len(train_acc)), train_acc, label=\"train accuracy\")\n",
        "plt.plot(range(len(valid_acc)), valid_acc, label=\"valid accuracy\")\n",
        "plt.legend()\n",
        "plt.title(\"Accuracy\")\n",
        "plt.show()"
      ],
      "execution_count": 16,
      "outputs": [
        {
          "output_type": "display_data",
          "data": {
            "image/png": "[encoded data removed]",
            "text/plain": [
              "<Figure size 432x288 with 1 Axes>"
            ]
          },
          "metadata": {
            "tags": [],
            "needs_background": "light"
          }
        },
        {
          "output_type": "display_data",
          "data": {
            "image/png": "[encoded data removed]",
            "text/plain": [
              "<Figure size 432x288 with 1 Axes>"
            ]
          },
          "metadata": {
            "tags": [],
            "needs_background": "light"
          }
        }
      ]
    },
    {
      "cell_type": "code",
      "metadata": {
        "id": "S3_9ZwX_GHBc",
        "colab_type": "code",
        "colab": {}
      },
      "source": [
        "earlystop = EarlyStopping(monitor=\"val_loss\", \n",
        "                          patience=10, \n",
        "                          verbose=1\n",
        "                          )"
      ],
      "execution_count": 17,
      "outputs": []
    },
    {
      "cell_type": "code",
      "metadata": {
        "id": "xiaUraKjGJ69",
        "colab_type": "code",
        "colab": {
          "base_uri": "https://localhost:8080/",
          "height": 1000
        },
        "outputId": "6e92a271-9f08-437b-b914-41df7e8b2041"
      },
      "source": [
        "model = build_mlp(input_shape=x_train.shape[1:])\n",
        "model.summary()\n",
        "optimizer = keras.optimizers.SGD(lr=LEARNING_RATE, nesterov=True, momentum=MOMENTUM)\n",
        "model.compile(loss=\"categorical_crossentropy\", metrics=[\"accuracy\"], optimizer=optimizer)\n",
        "\n",
        "model.fit(x_train, y_train, \n",
        "          epochs=EPOCHS, \n",
        "          batch_size=BATCH_SIZE, \n",
        "          validation_data=(x_test, y_test), \n",
        "          shuffle=True,\n",
        "          callbacks=[earlystop]\n",
        "         )\n",
        "\n",
        "# Collect results\n",
        "train_loss = model.history.history[\"loss\"]\n",
        "valid_loss = model.history.history[\"val_loss\"]\n",
        "train_acc = model.history.history[\"accuracy\"]\n",
        "valid_acc = model.history.history[\"val_accuracy\"]"
      ],
      "execution_count": 18,
      "outputs": [
        {
          "output_type": "stream",
          "text": [
            "Model: \"model_2\"\n",
            "_________________________________________________________________\n",
            "Layer (type)                 Output Shape              Param #   \n",
            "=================================================================\n",
            "input_2 (InputLayer)         (None, 3072)              0         \n",
            "_________________________________________________________________\n",
            "hidden_layer1 (Dense)        (None, 512)               1573376   \n",
            "_________________________________________________________________\n",
            "batch_normalization_4 (Batch (None, 512)               2048      \n",
            "_________________________________________________________________\n",
            "hidden_layer2 (Dense)        (None, 256)               131328    \n",
            "_________________________________________________________________\n",
            "batch_normalization_5 (Batch (None, 256)               1024      \n",
            "_________________________________________________________________\n",
            "hidden_layer3 (Dense)        (None, 128)               32896     \n",
            "_________________________________________________________________\n",
            "batch_normalization_6 (Batch (None, 128)               512       \n",
            "_________________________________________________________________\n",
            "output (Dense)               (None, 10)                1290      \n",
            "=================================================================\n",
            "Total params: 1,742,474\n",
            "Trainable params: 1,740,682\n",
            "Non-trainable params: 1,792\n",
            "_________________________________________________________________\n",
            "Train on 50000 samples, validate on 10000 samples\n",
            "Epoch 1/30\n",
            "50000/50000 [==============================] - 9s 183us/step - loss: 2.2358 - accuracy: 0.2698 - val_loss: 2.1157 - val_accuracy: 0.1951\n",
            "Epoch 2/30\n",
            "50000/50000 [==============================] - 9s 174us/step - loss: 1.7434 - accuracy: 0.3946 - val_loss: 1.9604 - val_accuracy: 0.2808\n",
            "Epoch 3/30\n",
            "50000/50000 [==============================] - 9s 173us/step - loss: 1.6214 - accuracy: 0.4360 - val_loss: 1.8144 - val_accuracy: 0.3632\n",
            "Epoch 4/30\n",
            "50000/50000 [==============================] - 9s 174us/step - loss: 1.5484 - accuracy: 0.4593 - val_loss: 1.7167 - val_accuracy: 0.4001\n",
            "Epoch 5/30\n",
            "50000/50000 [==============================] - 9s 173us/step - loss: 1.4955 - accuracy: 0.4760 - val_loss: 1.6472 - val_accuracy: 0.4212\n",
            "Epoch 6/30\n",
            "50000/50000 [==============================] - 9s 173us/step - loss: 1.4515 - accuracy: 0.4928 - val_loss: 1.5807 - val_accuracy: 0.4405\n",
            "Epoch 7/30\n",
            "50000/50000 [==============================] - 9s 173us/step - loss: 1.4124 - accuracy: 0.5062 - val_loss: 1.5492 - val_accuracy: 0.4522\n",
            "Epoch 8/30\n",
            "50000/50000 [==============================] - 9s 173us/step - loss: 1.3773 - accuracy: 0.5209 - val_loss: 1.5293 - val_accuracy: 0.4584\n",
            "Epoch 9/30\n",
            "50000/50000 [==============================] - 9s 173us/step - loss: 1.3461 - accuracy: 0.5314 - val_loss: 1.5056 - val_accuracy: 0.4667\n",
            "Epoch 10/30\n",
            "50000/50000 [==============================] - 9s 174us/step - loss: 1.3182 - accuracy: 0.5438 - val_loss: 1.4741 - val_accuracy: 0.4792\n",
            "Epoch 11/30\n",
            "50000/50000 [==============================] - 9s 174us/step - loss: 1.2899 - accuracy: 0.5522 - val_loss: 1.4721 - val_accuracy: 0.4791\n",
            "Epoch 12/30\n",
            "50000/50000 [==============================] - 9s 173us/step - loss: 1.2625 - accuracy: 0.5633 - val_loss: 1.4683 - val_accuracy: 0.4787\n",
            "Epoch 13/30\n",
            "50000/50000 [==============================] - 9s 175us/step - loss: 1.2355 - accuracy: 0.5747 - val_loss: 1.4671 - val_accuracy: 0.4840\n",
            "Epoch 14/30\n",
            "50000/50000 [==============================] - 9s 175us/step - loss: 1.2123 - accuracy: 0.5821 - val_loss: 1.4499 - val_accuracy: 0.4873\n",
            "Epoch 15/30\n",
            "50000/50000 [==============================] - 9s 176us/step - loss: 1.1893 - accuracy: 0.5914 - val_loss: 1.4606 - val_accuracy: 0.4856\n",
            "Epoch 16/30\n",
            "50000/50000 [==============================] - 9s 173us/step - loss: 1.1652 - accuracy: 0.5997 - val_loss: 1.4569 - val_accuracy: 0.4872\n",
            "Epoch 17/30\n",
            "50000/50000 [==============================] - 9s 173us/step - loss: 1.1421 - accuracy: 0.6094 - val_loss: 1.4591 - val_accuracy: 0.4878\n",
            "Epoch 18/30\n",
            "50000/50000 [==============================] - 9s 173us/step - loss: 1.1208 - accuracy: 0.6157 - val_loss: 1.4414 - val_accuracy: 0.4947\n",
            "Epoch 19/30\n",
            "50000/50000 [==============================] - 9s 174us/step - loss: 1.0977 - accuracy: 0.6255 - val_loss: 1.4497 - val_accuracy: 0.4919\n",
            "Epoch 20/30\n",
            "50000/50000 [==============================] - 9s 173us/step - loss: 1.0766 - accuracy: 0.6343 - val_loss: 1.4386 - val_accuracy: 0.4928\n",
            "Epoch 21/30\n",
            "50000/50000 [==============================] - 9s 173us/step - loss: 1.0574 - accuracy: 0.6408 - val_loss: 1.4444 - val_accuracy: 0.5000\n",
            "Epoch 22/30\n",
            "50000/50000 [==============================] - 9s 173us/step - loss: 1.0342 - accuracy: 0.6489 - val_loss: 1.4531 - val_accuracy: 0.4994\n",
            "Epoch 23/30\n",
            "50000/50000 [==============================] - 11s 223us/step - loss: 1.0144 - accuracy: 0.6563 - val_loss: 1.4647 - val_accuracy: 0.4931\n",
            "Epoch 24/30\n",
            "50000/50000 [==============================] - 9s 175us/step - loss: 0.9951 - accuracy: 0.6658 - val_loss: 1.4492 - val_accuracy: 0.4972\n",
            "Epoch 25/30\n",
            "50000/50000 [==============================] - 9s 174us/step - loss: 0.9750 - accuracy: 0.6727 - val_loss: 1.4523 - val_accuracy: 0.4992\n",
            "Epoch 26/30\n",
            "50000/50000 [==============================] - 9s 173us/step - loss: 0.9555 - accuracy: 0.6811 - val_loss: 1.4611 - val_accuracy: 0.4935\n",
            "Epoch 27/30\n",
            "50000/50000 [==============================] - 9s 175us/step - loss: 0.9345 - accuracy: 0.6890 - val_loss: 1.4654 - val_accuracy: 0.4917\n",
            "Epoch 28/30\n",
            "50000/50000 [==============================] - 9s 176us/step - loss: 0.9139 - accuracy: 0.6963 - val_loss: 1.4581 - val_accuracy: 0.5008\n",
            "Epoch 29/30\n",
            "50000/50000 [==============================] - 9s 175us/step - loss: 0.8943 - accuracy: 0.7048 - val_loss: 1.4688 - val_accuracy: 0.5027\n",
            "Epoch 30/30\n",
            "50000/50000 [==============================] - 9s 174us/step - loss: 0.8758 - accuracy: 0.7121 - val_loss: 1.4756 - val_accuracy: 0.4986\n",
            "Epoch 00030: early stopping\n"
          ],
          "name": "stdout"
        }
      ]
    },
    {
      "cell_type": "code",
      "metadata": {
        "id": "d9j3pDPBGMGj",
        "colab_type": "code",
        "colab": {
          "base_uri": "https://localhost:8080/",
          "height": 545
        },
        "outputId": "974a10b9-c238-4476-9aa6-b3378244d12b"
      },
      "source": [
        "import matplotlib.pyplot as plt\n",
        "%matplotlib inline\n",
        "\n",
        "plt.plot(range(len(train_loss)), train_loss, label=\"train loss\")\n",
        "plt.plot(range(len(valid_loss)), valid_loss, label=\"valid loss\")\n",
        "plt.legend()\n",
        "plt.title(\"Loss\")\n",
        "plt.show()\n",
        "\n",
        "plt.plot(range(len(train_acc)), train_acc, label=\"train accuracy\")\n",
        "plt.plot(range(len(valid_acc)), valid_acc, label=\"valid accuracy\")\n",
        "plt.legend()\n",
        "plt.title(\"Accuracy\")\n",
        "plt.show()"
      ],
      "execution_count": 19,
      "outputs": [
        {
          "output_type": "display_data",
          "data": {
            "image/png": "[encoded data removed]",
            "text/plain": [
              "<Figure size 432x288 with 1 Axes>"
            ]
          },
          "metadata": {
            "tags": [],
            "needs_background": "light"
          }
        },
        {
          "output_type": "display_data",
          "data": {
            "image/png": "[encoded data removed]",
            "text/plain": [
              "<Figure size 432x288 with 1 Axes>"
            ]
          },
          "metadata": {
            "tags": [],
            "needs_background": "light"
          }
        }
      ]
    },
    {
      "cell_type": "code",
      "metadata": {
        "id": "kmlDlANHGQ3U",
        "colab_type": "code",
        "colab": {}
      },
      "source": [
        "earlystop = EarlyStopping(monitor=\"val_loss\", \n",
        "                          patience=25, \n",
        "                          verbose=1\n",
        "                          )"
      ],
      "execution_count": 20,
      "outputs": []
    },
    {
      "cell_type": "code",
      "metadata": {
        "id": "BSixeJfPGS3s",
        "colab_type": "code",
        "colab": {
          "base_uri": "https://localhost:8080/",
          "height": 1000
        },
        "outputId": "756656c2-231e-4271-9aea-a87665e1065c"
      },
      "source": [
        "model = build_mlp(input_shape=x_train.shape[1:])\n",
        "model.summary()\n",
        "optimizer = keras.optimizers.SGD(lr=LEARNING_RATE, nesterov=True, momentum=MOMENTUM)\n",
        "model.compile(loss=\"categorical_crossentropy\", metrics=[\"accuracy\"], optimizer=optimizer)\n",
        "\n",
        "model.fit(x_train, y_train, \n",
        "          epochs=EPOCHS, \n",
        "          batch_size=BATCH_SIZE, \n",
        "          validation_data=(x_test, y_test), \n",
        "          shuffle=True,\n",
        "          callbacks=[earlystop]\n",
        "         )\n",
        "\n",
        "# Collect results\n",
        "train_loss = model.history.history[\"loss\"]\n",
        "valid_loss = model.history.history[\"val_loss\"]\n",
        "train_acc = model.history.history[\"accuracy\"]\n",
        "valid_acc = model.history.history[\"val_accuracy\"]"
      ],
      "execution_count": 21,
      "outputs": [
        {
          "output_type": "stream",
          "text": [
            "Model: \"model_3\"\n",
            "_________________________________________________________________\n",
            "Layer (type)                 Output Shape              Param #   \n",
            "=================================================================\n",
            "input_3 (InputLayer)         (None, 3072)              0         \n",
            "_________________________________________________________________\n",
            "hidden_layer1 (Dense)        (None, 512)               1573376   \n",
            "_________________________________________________________________\n",
            "batch_normalization_7 (Batch (None, 512)               2048      \n",
            "_________________________________________________________________\n",
            "hidden_layer2 (Dense)        (None, 256)               131328    \n",
            "_________________________________________________________________\n",
            "batch_normalization_8 (Batch (None, 256)               1024      \n",
            "_________________________________________________________________\n",
            "hidden_layer3 (Dense)        (None, 128)               32896     \n",
            "_________________________________________________________________\n",
            "batch_normalization_9 (Batch (None, 128)               512       \n",
            "_________________________________________________________________\n",
            "output (Dense)               (None, 10)                1290      \n",
            "=================================================================\n",
            "Total params: 1,742,474\n",
            "Trainable params: 1,740,682\n",
            "Non-trainable params: 1,792\n",
            "_________________________________________________________________\n",
            "Train on 50000 samples, validate on 10000 samples\n",
            "Epoch 1/30\n",
            "50000/50000 [==============================] - 9s 182us/step - loss: 2.1973 - accuracy: 0.2692 - val_loss: 2.1306 - val_accuracy: 0.2259\n",
            "Epoch 2/30\n",
            "50000/50000 [==============================] - 9s 173us/step - loss: 1.7364 - accuracy: 0.3962 - val_loss: 1.9774 - val_accuracy: 0.2874\n",
            "Epoch 3/30\n",
            "50000/50000 [==============================] - 9s 175us/step - loss: 1.6116 - accuracy: 0.4370 - val_loss: 1.8492 - val_accuracy: 0.3592\n",
            "Epoch 4/30\n",
            "50000/50000 [==============================] - 9s 175us/step - loss: 1.5393 - accuracy: 0.4624 - val_loss: 1.7408 - val_accuracy: 0.3967\n",
            "Epoch 5/30\n",
            "50000/50000 [==============================] - 9s 173us/step - loss: 1.4842 - accuracy: 0.4807 - val_loss: 1.6661 - val_accuracy: 0.4128\n",
            "Epoch 6/30\n",
            "50000/50000 [==============================] - 9s 173us/step - loss: 1.4379 - accuracy: 0.4969 - val_loss: 1.5975 - val_accuracy: 0.4342\n",
            "Epoch 7/30\n",
            "50000/50000 [==============================] - 9s 172us/step - loss: 1.3995 - accuracy: 0.5110 - val_loss: 1.5459 - val_accuracy: 0.4528\n",
            "Epoch 8/30\n",
            "50000/50000 [==============================] - 9s 173us/step - loss: 1.3624 - accuracy: 0.5245 - val_loss: 1.5185 - val_accuracy: 0.4645\n",
            "Epoch 9/30\n",
            "50000/50000 [==============================] - 9s 173us/step - loss: 1.3309 - accuracy: 0.5372 - val_loss: 1.5016 - val_accuracy: 0.4707\n",
            "Epoch 10/30\n",
            "50000/50000 [==============================] - 9s 174us/step - loss: 1.3020 - accuracy: 0.5464 - val_loss: 1.4962 - val_accuracy: 0.4678\n",
            "Epoch 11/30\n",
            "50000/50000 [==============================] - 9s 175us/step - loss: 1.2732 - accuracy: 0.5578 - val_loss: 1.4813 - val_accuracy: 0.4777\n",
            "Epoch 12/30\n",
            "50000/50000 [==============================] - 9s 176us/step - loss: 1.2448 - accuracy: 0.5683 - val_loss: 1.4788 - val_accuracy: 0.4805\n",
            "Epoch 13/30\n",
            "50000/50000 [==============================] - 9s 174us/step - loss: 1.2206 - accuracy: 0.5764 - val_loss: 1.4627 - val_accuracy: 0.4880\n",
            "Epoch 14/30\n",
            "50000/50000 [==============================] - 9s 174us/step - loss: 1.1934 - accuracy: 0.5874 - val_loss: 1.4639 - val_accuracy: 0.4884\n",
            "Epoch 15/30\n",
            "50000/50000 [==============================] - 9s 174us/step - loss: 1.1688 - accuracy: 0.5965 - val_loss: 1.4573 - val_accuracy: 0.4909\n",
            "Epoch 16/30\n",
            "50000/50000 [==============================] - 9s 173us/step - loss: 1.1469 - accuracy: 0.6046 - val_loss: 1.4652 - val_accuracy: 0.4896\n",
            "Epoch 17/30\n",
            "50000/50000 [==============================] - 9s 173us/step - loss: 1.1236 - accuracy: 0.6153 - val_loss: 1.4628 - val_accuracy: 0.4860\n",
            "Epoch 18/30\n",
            "50000/50000 [==============================] - 9s 173us/step - loss: 1.0996 - accuracy: 0.6238 - val_loss: 1.4482 - val_accuracy: 0.4984\n",
            "Epoch 19/30\n",
            "50000/50000 [==============================] - 9s 173us/step - loss: 1.0778 - accuracy: 0.6329 - val_loss: 1.4412 - val_accuracy: 0.5017\n",
            "Epoch 20/30\n",
            "50000/50000 [==============================] - 9s 174us/step - loss: 1.0589 - accuracy: 0.6393 - val_loss: 1.4634 - val_accuracy: 0.4932\n",
            "Epoch 21/30\n",
            "50000/50000 [==============================] - 9s 177us/step - loss: 1.0357 - accuracy: 0.6472 - val_loss: 1.4455 - val_accuracy: 0.4965\n",
            "Epoch 22/30\n",
            "50000/50000 [==============================] - 9s 173us/step - loss: 1.0150 - accuracy: 0.6567 - val_loss: 1.4710 - val_accuracy: 0.4962\n",
            "Epoch 23/30\n",
            "50000/50000 [==============================] - 9s 173us/step - loss: 0.9928 - accuracy: 0.6643 - val_loss: 1.4628 - val_accuracy: 0.4979\n",
            "Epoch 24/30\n",
            "50000/50000 [==============================] - 9s 174us/step - loss: 0.9725 - accuracy: 0.6724 - val_loss: 1.4557 - val_accuracy: 0.5042\n",
            "Epoch 25/30\n",
            "50000/50000 [==============================] - 9s 174us/step - loss: 0.9528 - accuracy: 0.6805 - val_loss: 1.4679 - val_accuracy: 0.4952\n",
            "Epoch 26/30\n",
            "50000/50000 [==============================] - 9s 174us/step - loss: 0.9306 - accuracy: 0.6895 - val_loss: 1.4736 - val_accuracy: 0.4944\n",
            "Epoch 27/30\n",
            "50000/50000 [==============================] - 9s 176us/step - loss: 0.9124 - accuracy: 0.6974 - val_loss: 1.4852 - val_accuracy: 0.4951\n",
            "Epoch 28/30\n",
            "50000/50000 [==============================] - 9s 174us/step - loss: 0.8901 - accuracy: 0.7051 - val_loss: 1.4826 - val_accuracy: 0.4949\n",
            "Epoch 29/30\n",
            "50000/50000 [==============================] - 9s 174us/step - loss: 0.8699 - accuracy: 0.7138 - val_loss: 1.4779 - val_accuracy: 0.4980\n",
            "Epoch 30/30\n",
            "50000/50000 [==============================] - 9s 172us/step - loss: 0.8511 - accuracy: 0.7215 - val_loss: 1.4788 - val_accuracy: 0.5000\n"
          ],
          "name": "stdout"
        }
      ]
    },
    {
      "cell_type": "code",
      "metadata": {
        "id": "zKxUhqA1GUX8",
        "colab_type": "code",
        "colab": {
          "base_uri": "https://localhost:8080/",
          "height": 545
        },
        "outputId": "8d2fcb59-e778-440b-f09d-e89f2f9fb41a"
      },
      "source": [
        "import matplotlib.pyplot as plt\n",
        "%matplotlib inline\n",
        "\n",
        "plt.plot(range(len(train_loss)), train_loss, label=\"train loss\")\n",
        "plt.plot(range(len(valid_loss)), valid_loss, label=\"valid loss\")\n",
        "plt.legend()\n",
        "plt.title(\"Loss\")\n",
        "plt.show()\n",
        "\n",
        "plt.plot(range(len(train_acc)), train_acc, label=\"train accuracy\")\n",
        "plt.plot(range(len(valid_acc)), valid_acc, label=\"valid accuracy\")\n",
        "plt.legend()\n",
        "plt.title(\"Accuracy\")\n",
        "plt.show()"
      ],
      "execution_count": 22,
      "outputs": [
        {
          "output_type": "display_data",
          "data": {
            "image/png": "[encoded data removed]",
            "text/plain": [
              "<Figure size 432x288 with 1 Axes>"
            ]
          },
          "metadata": {
            "tags": [],
            "needs_background": "light"
          }
        },
        {
          "output_type": "display_data",
          "data": {
            "image/png": "[encoded data removed]",
            "text/plain": [
              "<Figure size 432x288 with 1 Axes>"
            ]
          },
          "metadata": {
            "tags": [],
            "needs_background": "light"
          }
        }
      ]
    }
  ]
}