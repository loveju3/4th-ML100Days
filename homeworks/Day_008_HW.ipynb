{
 "cells": [
  {
   "cell_type": "markdown",
   "metadata": {},
   "source": [
    "# [作業目標]\n",
    "- 對資料做更多處理 : 顯示特定欄位的統計值與直方圖"
   ]
  },
  {
   "cell_type": "markdown",
   "metadata": {},
   "source": [
    "# [作業重點]\n",
    "- 試著顯示特定欄位的基礎統計數值 (In[4], Out[4], Hint : describe())\n",
    "- 試著顯示特定欄位的直方圖 (In[5], Out[5], Hint : .hist())"
   ]
  },
  {
   "cell_type": "code",
   "execution_count": 1,
   "metadata": {},
   "outputs": [],
   "source": [
    "# Import 需要的套件\n",
    "import os\n",
    "import numpy as np\n",
    "import pandas as pd\n",
    "\n",
    "# 設定 data_path\n",
    "dir_data = './data/'"
   ]
  },
  {
   "cell_type": "code",
   "execution_count": 2,
   "metadata": {},
   "outputs": [],
   "source": [
    "f_app_train = os.path.join(dir_data, 'application_train.csv')\n",
    "app_train = pd.read_csv(f_app_train)"
   ]
  },
  {
   "cell_type": "code",
   "execution_count": 3,
   "metadata": {},
   "outputs": [],
   "source": [
    "import matplotlib.pyplot as plt\n",
    "%matplotlib inline"
   ]
  },
  {
   "cell_type": "markdown",
   "metadata": {},
   "source": [
    "## 練習時間"
   ]
  },
  {
   "cell_type": "markdown",
   "metadata": {},
   "source": [
    "觀察有興趣的欄位的資料分佈，並嘗試找出有趣的訊息\n",
    "#### Eg\n",
    "- 計算任意欄位的平均數及標準差\n",
    "- 畫出任意欄位的[直方圖](https://zh.wikipedia.org/zh-tw/%E7%9B%B4%E6%96%B9%E5%9B%BE)\n",
    "\n",
    "### Hints:\n",
    "- [Descriptive Statistics For pandas Dataframe](https://chrisalbon.com/python/data_wrangling/pandas_dataframe_descriptive_stats/)\n",
    "- [pandas 中的繪圖函數](https://amaozhao.gitbooks.io/pandas-notebook/content/pandas%E4%B8%AD%E7%9A%84%E7%BB%98%E5%9B%BE%E5%87%BD%E6%95%B0.html)\n"
   ]
  },
  {
   "cell_type": "code",
   "execution_count": 4,
   "metadata": {},
   "outputs": [
    {
     "name": "stdout",
     "output_type": "stream",
     "text": [
      "        SK_ID_CURR  TARGET NAME_CONTRACT_TYPE CODE_GENDER FLAG_OWN_CAR  \\\n",
      "0           100002       1         Cash loans           M            N   \n",
      "1           100003       0         Cash loans           F            N   \n",
      "2           100004       0    Revolving loans           M            Y   \n",
      "3           100006       0         Cash loans           F            N   \n",
      "4           100007       0         Cash loans           M            N   \n",
      "...            ...     ...                ...         ...          ...   \n",
      "307506      456251       0         Cash loans           M            N   \n",
      "307507      456252       0         Cash loans           F            N   \n",
      "307508      456253       0         Cash loans           F            N   \n",
      "307509      456254       1         Cash loans           F            N   \n",
      "307510      456255       0         Cash loans           F            N   \n",
      "\n",
      "       FLAG_OWN_REALTY  CNT_CHILDREN  AMT_INCOME_TOTAL  AMT_CREDIT  \\\n",
      "0                    Y             0          202500.0    406597.5   \n",
      "1                    N             0          270000.0   1293502.5   \n",
      "2                    Y             0           67500.0    135000.0   \n",
      "3                    Y             0          135000.0    312682.5   \n",
      "4                    Y             0          121500.0    513000.0   \n",
      "...                ...           ...               ...         ...   \n",
      "307506               N             0          157500.0    254700.0   \n",
      "307507               Y             0           72000.0    269550.0   \n",
      "307508               Y             0          153000.0    677664.0   \n",
      "307509               Y             0          171000.0    370107.0   \n",
      "307510               N             0          157500.0    675000.0   \n",
      "\n",
      "        AMT_ANNUITY  ...  FLAG_DOCUMENT_18 FLAG_DOCUMENT_19 FLAG_DOCUMENT_20  \\\n",
      "0           24700.5  ...                 0                0                0   \n",
      "1           35698.5  ...                 0                0                0   \n",
      "2            6750.0  ...                 0                0                0   \n",
      "3           29686.5  ...                 0                0                0   \n",
      "4           21865.5  ...                 0                0                0   \n",
      "...             ...  ...               ...              ...              ...   \n",
      "307506      27558.0  ...                 0                0                0   \n",
      "307507      12001.5  ...                 0                0                0   \n",
      "307508      29979.0  ...                 0                0                0   \n",
      "307509      20205.0  ...                 0                0                0   \n",
      "307510      49117.5  ...                 0                0                0   \n",
      "\n",
      "       FLAG_DOCUMENT_21 AMT_REQ_CREDIT_BUREAU_HOUR AMT_REQ_CREDIT_BUREAU_DAY  \\\n",
      "0                     0                        0.0                       0.0   \n",
      "1                     0                        0.0                       0.0   \n",
      "2                     0                        0.0                       0.0   \n",
      "3                     0                        NaN                       NaN   \n",
      "4                     0                        0.0                       0.0   \n",
      "...                 ...                        ...                       ...   \n",
      "307506                0                        NaN                       NaN   \n",
      "307507                0                        NaN                       NaN   \n",
      "307508                0                        1.0                       0.0   \n",
      "307509                0                        0.0                       0.0   \n",
      "307510                0                        0.0                       0.0   \n",
      "\n",
      "        AMT_REQ_CREDIT_BUREAU_WEEK  AMT_REQ_CREDIT_BUREAU_MON  \\\n",
      "0                              0.0                        0.0   \n",
      "1                              0.0                        0.0   \n",
      "2                              0.0                        0.0   \n",
      "3                              NaN                        NaN   \n",
      "4                              0.0                        0.0   \n",
      "...                            ...                        ...   \n",
      "307506                         NaN                        NaN   \n",
      "307507                         NaN                        NaN   \n",
      "307508                         0.0                        1.0   \n",
      "307509                         0.0                        0.0   \n",
      "307510                         0.0                        2.0   \n",
      "\n",
      "        AMT_REQ_CREDIT_BUREAU_QRT  AMT_REQ_CREDIT_BUREAU_YEAR  \n",
      "0                             0.0                         1.0  \n",
      "1                             0.0                         0.0  \n",
      "2                             0.0                         0.0  \n",
      "3                             NaN                         NaN  \n",
      "4                             0.0                         0.0  \n",
      "...                           ...                         ...  \n",
      "307506                        NaN                         NaN  \n",
      "307507                        NaN                         NaN  \n",
      "307508                        0.0                         1.0  \n",
      "307509                        0.0                         0.0  \n",
      "307510                        0.0                         1.0  \n",
      "\n",
      "[307511 rows x 122 columns]\n"
     ]
    }
   ],
   "source": [
    "print(app_train)"
   ]
  },
  {
   "cell_type": "code",
   "execution_count": 6,
   "metadata": {},
   "outputs": [
    {
     "name": "stdout",
     "output_type": "stream",
     "text": [
      "168797.9192969845\n",
      "----------------------\n",
      "237123.14627883647\n"
     ]
    }
   ],
   "source": [
    "df_amt =app_train['AMT_INCOME_TOTAL']\n",
    "df_amt_mean = df_amt.mean()\n",
    "print(df_amt_mean)\n",
    "print('----------------------')\n",
    "df_amt_std = df_amt.std()\n",
    "print(df_amt_std)"
   ]
  },
  {
   "cell_type": "code",
   "execution_count": 13,
   "metadata": {},
   "outputs": [
    {
     "data": {
      "text/plain": [
       "<matplotlib.axes._subplots.AxesSubplot at 0x1a000cf9508>"
      ]
     },
     "execution_count": 13,
     "metadata": {},
     "output_type": "execute_result"
    },
    {
     "data": {
      "image/png": "[encoded data removed]",
      "text/plain": [
       "<Figure size 432x288 with 1 Axes>"
      ]
     },
     "metadata": {
      "needs_background": "light"
     },
     "output_type": "display_data"
    }
   ],
   "source": [
    "app_train['AMT_CREDIT'].plot.hist(bins=50)"
   ]
  },
  {
   "cell_type": "code",
   "execution_count": null,
   "metadata": {},
   "outputs": [],
   "source": []
  }
 ],
 "metadata": {
  "kernelspec": {
   "display_name": "Python 3",
   "language": "python",
   "name": "python3"
  },
  "language_info": {
   "codemirror_mode": {
    "name": "ipython",
    "version": 3
   },
   "file_extension": ".py",
   "mimetype": "text/x-python",
   "name": "python",
   "nbconvert_exporter": "python",
   "pygments_lexer": "ipython3",
   "version": "3.7.4"
  }
 },
 "nbformat": 4,
 "nbformat_minor": 4
}
