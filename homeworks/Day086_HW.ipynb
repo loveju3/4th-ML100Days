{
  "nbformat": 4,
  "nbformat_minor": 0,
  "metadata": {
    "colab": {
      "name": "Day086_HW.ipynb",
      "provenance": []
    },
    "kernelspec": {
      "name": "python3",
      "display_name": "Python 3"
    }
  },
  "cells": [
    {
      "cell_type": "code",
      "metadata": {
        "id": "LPzl6LbUHeTa",
        "colab_type": "code",
        "colab": {
          "base_uri": "https://localhost:8080/",
          "height": 33
        },
        "outputId": "a98c65cd-3f80-488f-c946-7e19ba0f0656"
      },
      "source": [
        "import os\n",
        "import keras\n",
        "\n",
        "# Disable GPU\n",
        "os.environ[\"CUDA_VISIBLE_DEVICES\"] = \"\""
      ],
      "execution_count": 1,
      "outputs": [
        {
          "output_type": "stream",
          "text": [
            "Using TensorFlow backend.\n"
          ],
          "name": "stderr"
        }
      ]
    },
    {
      "cell_type": "code",
      "metadata": {
        "id": "s2tUuURNHn63",
        "colab_type": "code",
        "colab": {
          "base_uri": "https://localhost:8080/",
          "height": 50
        },
        "outputId": "f6764192-02b0-4bf8-983e-8ecd0a75e6f0"
      },
      "source": [
        "train, test = keras.datasets.cifar10.load_data()"
      ],
      "execution_count": 2,
      "outputs": [
        {
          "output_type": "stream",
          "text": [
            "Downloading data from https://www.cs.toronto.edu/~kriz/cifar-10-python.tar.gz\n",
            "170500096/170498071 [==============================] - 11s 0us/step\n"
          ],
          "name": "stdout"
        }
      ]
    },
    {
      "cell_type": "code",
      "metadata": {
        "id": "Yr2TnT_tHpWj",
        "colab_type": "code",
        "colab": {}
      },
      "source": [
        "## 資料前處理\n",
        "def preproc_x(x, flatten=True):\n",
        "    x = x / 255.\n",
        "    if flatten:\n",
        "        x = x.reshape((len(x), -1))\n",
        "    return x\n",
        "\n",
        "def preproc_y(y, num_classes=10):\n",
        "    if y.shape[-1] == 1:\n",
        "        y = keras.utils.to_categorical(y, num_classes)\n",
        "    return y    "
      ],
      "execution_count": 3,
      "outputs": []
    },
    {
      "cell_type": "code",
      "metadata": {
        "id": "g8YqtZfJHrI8",
        "colab_type": "code",
        "colab": {}
      },
      "source": [
        "x_train, y_train = train\n",
        "x_test, y_test = test\n",
        "\n",
        "# Preproc the inputs\n",
        "x_train = preproc_x(x_train)\n",
        "x_test = preproc_x(x_test)\n",
        "\n",
        "# Preprc the outputs\n",
        "y_train = preproc_y(y_train)\n",
        "y_test = preproc_y(y_test)"
      ],
      "execution_count": 4,
      "outputs": []
    },
    {
      "cell_type": "code",
      "metadata": {
        "id": "ojxWESmfHumT",
        "colab_type": "code",
        "colab": {}
      },
      "source": [
        "from keras.layers import BatchNormalization\n",
        "\n",
        "\"\"\"\n",
        "建立神經網路，並加入 BN layer\n",
        "\"\"\"\n",
        "def build_mlp(input_shape, output_units=10, num_neurons=[512, 256, 128]):\n",
        "    input_layer = keras.layers.Input(input_shape)\n",
        "    \n",
        "    for i, n_units in enumerate(num_neurons):\n",
        "        if i == 0:\n",
        "            x = keras.layers.Dense(units=n_units, \n",
        "                                   activation=\"relu\", \n",
        "                                   name=\"hidden_layer\"+str(i+1))(input_layer)\n",
        "            x = BatchNormalization()(x)\n",
        "        else:\n",
        "            x = keras.layers.Dense(units=n_units, \n",
        "                                   activation=\"relu\", \n",
        "                                   name=\"hidden_layer\"+str(i+1))(x)\n",
        "            x = BatchNormalization()(x)\n",
        "    \n",
        "    out = keras.layers.Dense(units=output_units, activation=\"softmax\", name=\"output\")(x)\n",
        "    \n",
        "    model = keras.models.Model(inputs=[input_layer], outputs=[out])\n",
        "    return model"
      ],
      "execution_count": 5,
      "outputs": []
    },
    {
      "cell_type": "code",
      "metadata": {
        "id": "BUevPqqxHwND",
        "colab_type": "code",
        "colab": {}
      },
      "source": [
        "## 超參數設定\n",
        "LEARNING_RATE = 1e-3\n",
        "EPOCHS = 30\n",
        "BATCH_SIZE = 1024\n",
        "MOMENTUM = 0.95"
      ],
      "execution_count": 6,
      "outputs": []
    },
    {
      "cell_type": "code",
      "metadata": {
        "id": "zb3Lt0ATH0HL",
        "colab_type": "code",
        "colab": {}
      },
      "source": [
        "\"\"\"\n",
        "# 載入 Callbacks, 並將監控目標設為 validation loss, 且只存最佳參數時的模型\n",
        "\"\"\"\n",
        "from keras.callbacks import ModelCheckpoint\n",
        "\n",
        "model_ckpt = ModelCheckpoint(filepath=\"./tmp.h5\", \n",
        "                             monitor=\"val_loss\", \n",
        "                             save_best_only=True)"
      ],
      "execution_count": 7,
      "outputs": []
    },
    {
      "cell_type": "code",
      "metadata": {
        "id": "NYMOjr9tH_R8",
        "colab_type": "code",
        "colab": {
          "base_uri": "https://localhost:8080/",
          "height": 1000
        },
        "outputId": "19081d11-1d07-44fa-9c0f-52db9c293c4b"
      },
      "source": [
        "model = build_mlp(input_shape=x_train.shape[1:])\n",
        "model.summary()\n",
        "optimizer = keras.optimizers.SGD(lr=LEARNING_RATE, nesterov=True, momentum=MOMENTUM)\n",
        "model.compile(loss=\"categorical_crossentropy\", metrics=[\"accuracy\"], optimizer=optimizer)\n",
        "\n",
        "model.fit(x_train, y_train, \n",
        "          epochs=EPOCHS, \n",
        "          batch_size=BATCH_SIZE, \n",
        "          validation_data=(x_test, y_test), \n",
        "          shuffle=True,\n",
        "          callbacks=[model_ckpt]\n",
        "         )\n",
        "\n",
        "# Collect results\n",
        "train_loss = model.history.history[\"loss\"]\n",
        "valid_loss = model.history.history[\"val_loss\"]\n",
        "train_acc = model.history.history[\"accuracy\"]\n",
        "valid_acc = model.history.history[\"val_accuracy\"]\n",
        "\n",
        "# Load back\n",
        "model = keras.models.load_model(\"./tmp.h5\")\n",
        "loss_loadback, acc_loadback = model.evaluate(x_test, y_test)"
      ],
      "execution_count": 8,
      "outputs": [
        {
          "output_type": "stream",
          "text": [
            "Model: \"model_1\"\n",
            "_________________________________________________________________\n",
            "Layer (type)                 Output Shape              Param #   \n",
            "=================================================================\n",
            "input_1 (InputLayer)         (None, 3072)              0         \n",
            "_________________________________________________________________\n",
            "hidden_layer1 (Dense)        (None, 512)               1573376   \n",
            "_________________________________________________________________\n",
            "batch_normalization_1 (Batch (None, 512)               2048      \n",
            "_________________________________________________________________\n",
            "hidden_layer2 (Dense)        (None, 256)               131328    \n",
            "_________________________________________________________________\n",
            "batch_normalization_2 (Batch (None, 256)               1024      \n",
            "_________________________________________________________________\n",
            "hidden_layer3 (Dense)        (None, 128)               32896     \n",
            "_________________________________________________________________\n",
            "batch_normalization_3 (Batch (None, 128)               512       \n",
            "_________________________________________________________________\n",
            "output (Dense)               (None, 10)                1290      \n",
            "=================================================================\n",
            "Total params: 1,742,474\n",
            "Trainable params: 1,740,682\n",
            "Non-trainable params: 1,792\n",
            "_________________________________________________________________\n",
            "Train on 50000 samples, validate on 10000 samples\n",
            "Epoch 1/30\n",
            "50000/50000 [==============================] - 9s 185us/step - loss: 2.2441 - accuracy: 0.2623 - val_loss: 2.1152 - val_accuracy: 0.2147\n",
            "Epoch 2/30\n",
            "50000/50000 [==============================] - 9s 173us/step - loss: 1.7471 - accuracy: 0.3915 - val_loss: 1.9452 - val_accuracy: 0.3279\n",
            "Epoch 3/30\n",
            "50000/50000 [==============================] - 9s 173us/step - loss: 1.6195 - accuracy: 0.4307 - val_loss: 1.8167 - val_accuracy: 0.3744\n",
            "Epoch 4/30\n",
            "50000/50000 [==============================] - 9s 173us/step - loss: 1.5422 - accuracy: 0.4586 - val_loss: 1.7157 - val_accuracy: 0.4062\n",
            "Epoch 5/30\n",
            "50000/50000 [==============================] - 9s 174us/step - loss: 1.4855 - accuracy: 0.4785 - val_loss: 1.6319 - val_accuracy: 0.4324\n",
            "Epoch 6/30\n",
            "50000/50000 [==============================] - 9s 175us/step - loss: 1.4391 - accuracy: 0.4964 - val_loss: 1.5868 - val_accuracy: 0.4439\n",
            "Epoch 7/30\n",
            "50000/50000 [==============================] - 9s 172us/step - loss: 1.4014 - accuracy: 0.5096 - val_loss: 1.5435 - val_accuracy: 0.4558\n",
            "Epoch 8/30\n",
            "50000/50000 [==============================] - 9s 173us/step - loss: 1.3659 - accuracy: 0.5224 - val_loss: 1.5272 - val_accuracy: 0.4564\n",
            "Epoch 9/30\n",
            "50000/50000 [==============================] - 9s 172us/step - loss: 1.3337 - accuracy: 0.5352 - val_loss: 1.5078 - val_accuracy: 0.4643\n",
            "Epoch 10/30\n",
            "50000/50000 [==============================] - 9s 173us/step - loss: 1.3037 - accuracy: 0.5450 - val_loss: 1.4949 - val_accuracy: 0.4711\n",
            "Epoch 11/30\n",
            "50000/50000 [==============================] - 9s 173us/step - loss: 1.2767 - accuracy: 0.5544 - val_loss: 1.4779 - val_accuracy: 0.4730\n",
            "Epoch 12/30\n",
            "50000/50000 [==============================] - 9s 172us/step - loss: 1.2502 - accuracy: 0.5645 - val_loss: 1.4728 - val_accuracy: 0.4804\n",
            "Epoch 13/30\n",
            "50000/50000 [==============================] - 9s 173us/step - loss: 1.2256 - accuracy: 0.5736 - val_loss: 1.4773 - val_accuracy: 0.4710\n",
            "Epoch 14/30\n",
            "50000/50000 [==============================] - 9s 172us/step - loss: 1.1999 - accuracy: 0.5851 - val_loss: 1.4612 - val_accuracy: 0.4794\n",
            "Epoch 15/30\n",
            "50000/50000 [==============================] - 9s 173us/step - loss: 1.1764 - accuracy: 0.5929 - val_loss: 1.4657 - val_accuracy: 0.4816\n",
            "Epoch 16/30\n",
            "50000/50000 [==============================] - 9s 172us/step - loss: 1.1521 - accuracy: 0.6019 - val_loss: 1.4512 - val_accuracy: 0.4860\n",
            "Epoch 17/30\n",
            "50000/50000 [==============================] - 9s 173us/step - loss: 1.1283 - accuracy: 0.6111 - val_loss: 1.4454 - val_accuracy: 0.4906\n",
            "Epoch 18/30\n",
            "50000/50000 [==============================] - 9s 173us/step - loss: 1.1066 - accuracy: 0.6197 - val_loss: 1.4483 - val_accuracy: 0.4869\n",
            "Epoch 19/30\n",
            "50000/50000 [==============================] - 9s 172us/step - loss: 1.0824 - accuracy: 0.6288 - val_loss: 1.4471 - val_accuracy: 0.4881\n",
            "Epoch 20/30\n",
            "50000/50000 [==============================] - 9s 173us/step - loss: 1.0629 - accuracy: 0.6364 - val_loss: 1.4417 - val_accuracy: 0.4929\n",
            "Epoch 21/30\n",
            "50000/50000 [==============================] - 9s 171us/step - loss: 1.0422 - accuracy: 0.6433 - val_loss: 1.4497 - val_accuracy: 0.4981\n",
            "Epoch 22/30\n",
            "50000/50000 [==============================] - 9s 173us/step - loss: 1.0182 - accuracy: 0.6523 - val_loss: 1.4490 - val_accuracy: 0.5007\n",
            "Epoch 23/30\n",
            "50000/50000 [==============================] - 9s 173us/step - loss: 0.9967 - accuracy: 0.6618 - val_loss: 1.4530 - val_accuracy: 0.4957\n",
            "Epoch 24/30\n",
            "50000/50000 [==============================] - 9s 173us/step - loss: 0.9776 - accuracy: 0.6689 - val_loss: 1.4478 - val_accuracy: 0.4997\n",
            "Epoch 25/30\n",
            "50000/50000 [==============================] - 9s 172us/step - loss: 0.9566 - accuracy: 0.6772 - val_loss: 1.4633 - val_accuracy: 0.4925\n",
            "Epoch 26/30\n",
            "50000/50000 [==============================] - 9s 172us/step - loss: 0.9352 - accuracy: 0.6873 - val_loss: 1.4554 - val_accuracy: 0.4941\n",
            "Epoch 27/30\n",
            "50000/50000 [==============================] - 9s 173us/step - loss: 0.9147 - accuracy: 0.6943 - val_loss: 1.4520 - val_accuracy: 0.4988\n",
            "Epoch 28/30\n",
            "50000/50000 [==============================] - 9s 172us/step - loss: 0.8952 - accuracy: 0.7014 - val_loss: 1.4666 - val_accuracy: 0.4980\n",
            "Epoch 29/30\n",
            "50000/50000 [==============================] - 9s 172us/step - loss: 0.8768 - accuracy: 0.7082 - val_loss: 1.4828 - val_accuracy: 0.4963\n",
            "Epoch 30/30\n",
            "50000/50000 [==============================] - 9s 173us/step - loss: 0.8548 - accuracy: 0.7183 - val_loss: 1.4599 - val_accuracy: 0.4942\n"
          ],
          "name": "stdout"
        },
        {
          "output_type": "error",
          "ename": "KeyError",
          "evalue": "ignored",
          "traceback": [
            "\u001b[0;31m---------------------------------------------------------------------------\u001b[0m",
            "\u001b[0;31mKeyError\u001b[0m                                  Traceback (most recent call last)",
            "\u001b[0;32m<ipython-input-8-413ffff97479>\u001b[0m in \u001b[0;36m<module>\u001b[0;34m()\u001b[0m\n\u001b[1;32m     15\u001b[0m \u001b[0mtrain_loss\u001b[0m \u001b[0;34m=\u001b[0m \u001b[0mmodel\u001b[0m\u001b[0;34m.\u001b[0m\u001b[0mhistory\u001b[0m\u001b[0;34m.\u001b[0m\u001b[0mhistory\u001b[0m\u001b[0;34m[\u001b[0m\u001b[0;34m\"loss\"\u001b[0m\u001b[0;34m]\u001b[0m\u001b[0;34m\u001b[0m\u001b[0;34m\u001b[0m\u001b[0m\n\u001b[1;32m     16\u001b[0m \u001b[0mvalid_loss\u001b[0m \u001b[0;34m=\u001b[0m \u001b[0mmodel\u001b[0m\u001b[0;34m.\u001b[0m\u001b[0mhistory\u001b[0m\u001b[0;34m.\u001b[0m\u001b[0mhistory\u001b[0m\u001b[0;34m[\u001b[0m\u001b[0;34m\"val_loss\"\u001b[0m\u001b[0;34m]\u001b[0m\u001b[0;34m\u001b[0m\u001b[0;34m\u001b[0m\u001b[0m\n\u001b[0;32m---> 17\u001b[0;31m \u001b[0mtrain_acc\u001b[0m \u001b[0;34m=\u001b[0m \u001b[0mmodel\u001b[0m\u001b[0;34m.\u001b[0m\u001b[0mhistory\u001b[0m\u001b[0;34m.\u001b[0m\u001b[0mhistory\u001b[0m\u001b[0;34m[\u001b[0m\u001b[0;34m\"acc\"\u001b[0m\u001b[0;34m]\u001b[0m\u001b[0;34m\u001b[0m\u001b[0;34m\u001b[0m\u001b[0m\n\u001b[0m\u001b[1;32m     18\u001b[0m \u001b[0mvalid_acc\u001b[0m \u001b[0;34m=\u001b[0m \u001b[0mmodel\u001b[0m\u001b[0;34m.\u001b[0m\u001b[0mhistory\u001b[0m\u001b[0;34m.\u001b[0m\u001b[0mhistory\u001b[0m\u001b[0;34m[\u001b[0m\u001b[0;34m\"val_acc\"\u001b[0m\u001b[0;34m]\u001b[0m\u001b[0;34m\u001b[0m\u001b[0;34m\u001b[0m\u001b[0m\n\u001b[1;32m     19\u001b[0m \u001b[0;34m\u001b[0m\u001b[0m\n",
            "\u001b[0;31mKeyError\u001b[0m: 'acc'"
          ]
        }
      ]
    },
    {
      "cell_type": "code",
      "metadata": {
        "id": "rwSr2oC1Jx9O",
        "colab_type": "code",
        "colab": {
          "base_uri": "https://localhost:8080/",
          "height": 33
        },
        "outputId": "cefc9344-7285-481e-f0a2-ddf6f4e59abb"
      },
      "source": [
        "# Collect results\n",
        "train_loss = model.history.history[\"loss\"]\n",
        "valid_loss = model.history.history[\"val_loss\"]\n",
        "train_acc = model.history.history[\"accuracy\"]\n",
        "valid_acc = model.history.history[\"val_accuracy\"]\n",
        "\n",
        "# Load back\n",
        "model = keras.models.load_model(\"./tmp.h5\")\n",
        "loss_loadback, acc_loadback = model.evaluate(x_test, y_test)"
      ],
      "execution_count": 9,
      "outputs": [
        {
          "output_type": "stream",
          "text": [
            "10000/10000 [==============================] - 2s 178us/step\n"
          ],
          "name": "stdout"
        }
      ]
    },
    {
      "cell_type": "code",
      "metadata": {
        "id": "63fNj1GDIIXj",
        "colab_type": "code",
        "colab": {
          "base_uri": "https://localhost:8080/",
          "height": 545
        },
        "outputId": "cc4a19b5-016a-4470-a741-bb43b9af1645"
      },
      "source": [
        "import matplotlib.pyplot as plt\n",
        "%matplotlib inline\n",
        "\n",
        "plt.plot(range(len(train_loss)), train_loss, label=\"train loss\")\n",
        "plt.plot(range(len(valid_loss)), valid_loss, label=\"valid loss\")\n",
        "plt.hlines(y=loss_loadback, xmin=0, xmax=len(train_loss), colors='r', linestyles='--')\n",
        "plt.legend()\n",
        "plt.title(\"Loss\")\n",
        "plt.show()\n",
        "\n",
        "plt.plot(range(len(train_acc)), train_acc, label=\"train accuracy\")\n",
        "plt.plot(range(len(valid_acc)), valid_acc, label=\"valid accuracy\")\n",
        "plt.hlines(y=acc_loadback, xmin=0, xmax=len(train_loss), colors='r', linestyles='--')\n",
        "plt.legend()\n",
        "plt.title(\"Accuracy\")\n",
        "plt.show()"
      ],
      "execution_count": 10,
      "outputs": [
        {
          "output_type": "display_data",
          "data": {
            "image/png": "[encoded data removed]",
            "text/plain": [
              "<Figure size 432x288 with 1 Axes>"
            ]
          },
          "metadata": {
            "tags": [],
            "needs_background": "light"
          }
        },
        {
          "output_type": "display_data",
          "data": {
            "image/png": "[encoded data removed]",
            "text/plain": [
              "<Figure size 432x288 with 1 Axes>"
            ]
          },
          "metadata": {
            "tags": [],
            "needs_background": "light"
          }
        }
      ]
    }
  ]
}