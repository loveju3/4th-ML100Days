{
  "nbformat": 4,
  "nbformat_minor": 0,
  "metadata": {
    "colab": {
      "name": "Day087HW.ipynb",
      "provenance": []
    },
    "kernelspec": {
      "name": "python3",
      "display_name": "Python 3"
    }
  },
  "cells": [
    {
      "cell_type": "code",
      "metadata": {
        "id": "mF6-1af6LLIb",
        "colab_type": "code",
        "colab": {
          "base_uri": "https://localhost:8080/",
          "height": 33
        },
        "outputId": "e78bbc64-e32e-460f-de5d-dcbc6306625d"
      },
      "source": [
        "import os\n",
        "import keras\n",
        "\n",
        "# 本範例不需使用 GPU, 將 GPU 設定為 \"無\"\n",
        "os.environ[\"CUDA_VISIBLE_DEVICES\"] = \"\""
      ],
      "execution_count": 1,
      "outputs": [
        {
          "output_type": "stream",
          "text": [
            "Using TensorFlow backend.\n"
          ],
          "name": "stderr"
        }
      ]
    },
    {
      "cell_type": "code",
      "metadata": {
        "id": "AO7Cc057LPiG",
        "colab_type": "code",
        "colab": {
          "base_uri": "https://localhost:8080/",
          "height": 50
        },
        "outputId": "a4b605c1-1b8d-47ee-8e12-18c0976a092e"
      },
      "source": [
        "train, test = keras.datasets.cifar10.load_data()"
      ],
      "execution_count": 2,
      "outputs": [
        {
          "output_type": "stream",
          "text": [
            "Downloading data from https://www.cs.toronto.edu/~kriz/cifar-10-python.tar.gz\n",
            "170500096/170498071 [==============================] - 4s 0us/step\n"
          ],
          "name": "stdout"
        }
      ]
    },
    {
      "cell_type": "code",
      "metadata": {
        "id": "-j4QaIJFLRX7",
        "colab_type": "code",
        "colab": {}
      },
      "source": [
        "## 資料前處理\n",
        "def preproc_x(x, flatten=True):\n",
        "    x = x / 255.\n",
        "    if flatten:\n",
        "        x = x.reshape((len(x), -1))\n",
        "    return x\n",
        "\n",
        "def preproc_y(y, num_classes=10):\n",
        "    if y.shape[-1] == 1:\n",
        "        y = keras.utils.to_categorical(y, num_classes)\n",
        "    return y  "
      ],
      "execution_count": 3,
      "outputs": []
    },
    {
      "cell_type": "code",
      "metadata": {
        "id": "-o5chMxTLTZL",
        "colab_type": "code",
        "colab": {}
      },
      "source": [
        "x_train, y_train = train\n",
        "x_test, y_test = test\n",
        "\n",
        "# 資料前處理 - X 標準化\n",
        "x_train = preproc_x(x_train)\n",
        "x_test = preproc_x(x_test)\n",
        "\n",
        "# 資料前處理 -Y 轉成 onehot\n",
        "y_train = preproc_y(y_train)\n",
        "y_test = preproc_y(y_test)"
      ],
      "execution_count": 4,
      "outputs": []
    },
    {
      "cell_type": "code",
      "metadata": {
        "id": "BzT3I9TxLve0",
        "colab_type": "code",
        "colab": {}
      },
      "source": [
        "from keras.layers import BatchNormalization\n",
        "\n",
        "\"\"\"\n",
        "建立神經網路，並加入 BN layer\n",
        "\"\"\"\n",
        "def build_mlp(input_shape, output_units=10, num_neurons=[512, 256, 128]):\n",
        "    input_layer = keras.layers.Input(input_shape)\n",
        "    \n",
        "    for i, n_units in enumerate(num_neurons):\n",
        "        if i == 0:\n",
        "            x = keras.layers.Dense(units=n_units, \n",
        "                                   activation=\"relu\", \n",
        "                                   name=\"hidden_layer\"+str(i+1))(input_layer)\n",
        "            x = BatchNormalization()(x)\n",
        "        else:\n",
        "            x = keras.layers.Dense(units=n_units, \n",
        "                                   activation=\"relu\", \n",
        "                                   name=\"hidden_layer\"+str(i+1))(x)\n",
        "            x = BatchNormalization()(x)\n",
        "    \n",
        "    out = keras.layers.Dense(units=output_units, activation=\"softmax\", name=\"output\")(x)\n",
        "    \n",
        "    model = keras.models.Model(inputs=[input_layer], outputs=[out])\n",
        "    return model"
      ],
      "execution_count": 5,
      "outputs": []
    },
    {
      "cell_type": "code",
      "metadata": {
        "id": "3VrCUIFcL0_L",
        "colab_type": "code",
        "colab": {}
      },
      "source": [
        "## 超參數設定\n",
        "LEARNING_RATE = 1e-3\n",
        "EPOCHS = 30\n",
        "BATCH_SIZE = 1024\n",
        "MOMENTUM = 0.95"
      ],
      "execution_count": 7,
      "outputs": []
    },
    {
      "cell_type": "code",
      "metadata": {
        "id": "nQCQpeQFL6_W",
        "colab_type": "code",
        "colab": {}
      },
      "source": [
        "\"\"\"\n",
        "# 載入 Callbacks, 並設定監控目標為 validation loss\n",
        "\"\"\"\n",
        "from keras.callbacks import ReduceLROnPlateau\n",
        "\n",
        "reduce_lr = ReduceLROnPlateau(factor=0.7, \n",
        "                              min_lr=1e-12, \n",
        "                              monitor='val_loss', \n",
        "                              patience=10, \n",
        "                              verbose=1)"
      ],
      "execution_count": 8,
      "outputs": []
    },
    {
      "cell_type": "code",
      "metadata": {
        "id": "52lC9t0VMCvr",
        "colab_type": "code",
        "colab": {
          "base_uri": "https://localhost:8080/",
          "height": 1000
        },
        "outputId": "997c4ad7-d01d-40ab-d441-c0a9d3352f6f"
      },
      "source": [
        "model = build_mlp(input_shape=x_train.shape[1:])\n",
        "model.summary()\n",
        "optimizer = keras.optimizers.SGD(lr=LEARNING_RATE, nesterov=True, momentum=MOMENTUM)\n",
        "model.compile(loss=\"categorical_crossentropy\", metrics=[\"accuracy\"], optimizer=optimizer)\n",
        "\n",
        "model.fit(x_train, y_train, \n",
        "          epochs=EPOCHS, \n",
        "          batch_size=BATCH_SIZE, \n",
        "          validation_data=(x_test, y_test), \n",
        "          shuffle=True,\n",
        "          callbacks=[reduce_lr]\n",
        "         )\n",
        "\n",
        "# Collect results\n",
        "train_loss = model.history.history[\"loss\"]\n",
        "valid_loss = model.history.history[\"val_loss\"]\n",
        "train_acc = model.history.history[\"accuracy\"]\n",
        "valid_acc = model.history.history[\"val_accuracy\"]"
      ],
      "execution_count": 9,
      "outputs": [
        {
          "output_type": "stream",
          "text": [
            "Model: \"model_1\"\n",
            "_________________________________________________________________\n",
            "Layer (type)                 Output Shape              Param #   \n",
            "=================================================================\n",
            "input_1 (InputLayer)         (None, 3072)              0         \n",
            "_________________________________________________________________\n",
            "hidden_layer1 (Dense)        (None, 512)               1573376   \n",
            "_________________________________________________________________\n",
            "batch_normalization_1 (Batch (None, 512)               2048      \n",
            "_________________________________________________________________\n",
            "hidden_layer2 (Dense)        (None, 256)               131328    \n",
            "_________________________________________________________________\n",
            "batch_normalization_2 (Batch (None, 256)               1024      \n",
            "_________________________________________________________________\n",
            "hidden_layer3 (Dense)        (None, 128)               32896     \n",
            "_________________________________________________________________\n",
            "batch_normalization_3 (Batch (None, 128)               512       \n",
            "_________________________________________________________________\n",
            "output (Dense)               (None, 10)                1290      \n",
            "=================================================================\n",
            "Total params: 1,742,474\n",
            "Trainable params: 1,740,682\n",
            "Non-trainable params: 1,792\n",
            "_________________________________________________________________\n",
            "Train on 50000 samples, validate on 10000 samples\n",
            "Epoch 1/30\n",
            "50000/50000 [==============================] - 9s 180us/step - loss: 2.2026 - accuracy: 0.2658 - val_loss: 2.1395 - val_accuracy: 0.1889\n",
            "Epoch 2/30\n",
            "50000/50000 [==============================] - 9s 170us/step - loss: 1.7352 - accuracy: 0.3913 - val_loss: 1.9510 - val_accuracy: 0.3115\n",
            "Epoch 3/30\n",
            "50000/50000 [==============================] - 9s 170us/step - loss: 1.6104 - accuracy: 0.4350 - val_loss: 1.8103 - val_accuracy: 0.3772\n",
            "Epoch 4/30\n",
            "50000/50000 [==============================] - 8s 170us/step - loss: 1.5354 - accuracy: 0.4602 - val_loss: 1.7084 - val_accuracy: 0.4111\n",
            "Epoch 5/30\n",
            "50000/50000 [==============================] - 8s 170us/step - loss: 1.4801 - accuracy: 0.4806 - val_loss: 1.6381 - val_accuracy: 0.4235\n",
            "Epoch 6/30\n",
            "50000/50000 [==============================] - 8s 169us/step - loss: 1.4356 - accuracy: 0.4958 - val_loss: 1.5788 - val_accuracy: 0.4402\n",
            "Epoch 7/30\n",
            "50000/50000 [==============================] - 9s 172us/step - loss: 1.3977 - accuracy: 0.5123 - val_loss: 1.5424 - val_accuracy: 0.4515\n",
            "Epoch 8/30\n",
            "50000/50000 [==============================] - 9s 171us/step - loss: 1.3629 - accuracy: 0.5240 - val_loss: 1.5278 - val_accuracy: 0.4572\n",
            "Epoch 9/30\n",
            "50000/50000 [==============================] - 9s 170us/step - loss: 1.3301 - accuracy: 0.5359 - val_loss: 1.5096 - val_accuracy: 0.4609\n",
            "Epoch 10/30\n",
            "50000/50000 [==============================] - 9s 170us/step - loss: 1.3014 - accuracy: 0.5456 - val_loss: 1.5002 - val_accuracy: 0.4662\n",
            "Epoch 11/30\n",
            "50000/50000 [==============================] - 8s 169us/step - loss: 1.2710 - accuracy: 0.5578 - val_loss: 1.4905 - val_accuracy: 0.4678\n",
            "Epoch 12/30\n",
            "50000/50000 [==============================] - 8s 169us/step - loss: 1.2471 - accuracy: 0.5682 - val_loss: 1.4774 - val_accuracy: 0.4728\n",
            "Epoch 13/30\n",
            "50000/50000 [==============================] - 8s 170us/step - loss: 1.2205 - accuracy: 0.5775 - val_loss: 1.4710 - val_accuracy: 0.4787\n",
            "Epoch 14/30\n",
            "50000/50000 [==============================] - 9s 170us/step - loss: 1.1957 - accuracy: 0.5857 - val_loss: 1.4766 - val_accuracy: 0.4727\n",
            "Epoch 15/30\n",
            "50000/50000 [==============================] - 9s 171us/step - loss: 1.1700 - accuracy: 0.5950 - val_loss: 1.4665 - val_accuracy: 0.4795\n",
            "Epoch 16/30\n",
            "50000/50000 [==============================] - 9s 171us/step - loss: 1.1485 - accuracy: 0.6058 - val_loss: 1.4693 - val_accuracy: 0.4796\n",
            "Epoch 17/30\n",
            "50000/50000 [==============================] - 9s 174us/step - loss: 1.1260 - accuracy: 0.6115 - val_loss: 1.4581 - val_accuracy: 0.4833\n",
            "Epoch 18/30\n",
            "50000/50000 [==============================] - 9s 170us/step - loss: 1.1025 - accuracy: 0.6202 - val_loss: 1.4568 - val_accuracy: 0.4795\n",
            "Epoch 19/30\n",
            "50000/50000 [==============================] - 9s 171us/step - loss: 1.0813 - accuracy: 0.6278 - val_loss: 1.4652 - val_accuracy: 0.4887\n",
            "Epoch 20/30\n",
            "50000/50000 [==============================] - 9s 171us/step - loss: 1.0585 - accuracy: 0.6376 - val_loss: 1.4655 - val_accuracy: 0.4814\n",
            "Epoch 21/30\n",
            "50000/50000 [==============================] - 9s 171us/step - loss: 1.0365 - accuracy: 0.6470 - val_loss: 1.4665 - val_accuracy: 0.4880\n",
            "Epoch 22/30\n",
            "50000/50000 [==============================] - 9s 170us/step - loss: 1.0148 - accuracy: 0.6560 - val_loss: 1.4653 - val_accuracy: 0.4833\n",
            "Epoch 23/30\n",
            "50000/50000 [==============================] - 9s 170us/step - loss: 0.9948 - accuracy: 0.6614 - val_loss: 1.4778 - val_accuracy: 0.4909\n",
            "\n",
            "Epoch 00023: ReduceLROnPlateau reducing learning rate to 0.0005000000237487257.\n",
            "Epoch 24/30\n",
            "50000/50000 [==============================] - 9s 170us/step - loss: 0.9662 - accuracy: 0.6717 - val_loss: 1.4676 - val_accuracy: 0.4911\n",
            "Epoch 25/30\n",
            "50000/50000 [==============================] - 8s 170us/step - loss: 0.9480 - accuracy: 0.6814 - val_loss: 1.4612 - val_accuracy: 0.4867\n",
            "Epoch 26/30\n",
            "50000/50000 [==============================] - 8s 170us/step - loss: 0.9350 - accuracy: 0.6869 - val_loss: 1.4606 - val_accuracy: 0.4936\n",
            "Epoch 27/30\n",
            "50000/50000 [==============================] - 8s 170us/step - loss: 0.9233 - accuracy: 0.6910 - val_loss: 1.4680 - val_accuracy: 0.4906\n",
            "Epoch 28/30\n",
            "50000/50000 [==============================] - 9s 171us/step - loss: 0.9126 - accuracy: 0.6946 - val_loss: 1.4720 - val_accuracy: 0.4863\n",
            "\n",
            "Epoch 00028: ReduceLROnPlateau reducing learning rate to 0.0002500000118743628.\n",
            "Epoch 29/30\n",
            "50000/50000 [==============================] - 9s 170us/step - loss: 0.8983 - accuracy: 0.7007 - val_loss: 1.4664 - val_accuracy: 0.4887\n",
            "Epoch 30/30\n",
            "50000/50000 [==============================] - 9s 170us/step - loss: 0.8875 - accuracy: 0.7065 - val_loss: 1.4682 - val_accuracy: 0.4916\n"
          ],
          "name": "stdout"
        }
      ]
    },
    {
      "cell_type": "code",
      "metadata": {
        "id": "7wS5FNQjMRo7",
        "colab_type": "code",
        "colab": {
          "base_uri": "https://localhost:8080/",
          "height": 545
        },
        "outputId": "02b58c21-c34b-4fcb-a268-c9985c240842"
      },
      "source": [
        "import matplotlib.pyplot as plt\n",
        "%matplotlib inline\n",
        "\n",
        "plt.plot(range(len(train_loss)), train_loss, label=\"train loss\")\n",
        "plt.plot(range(len(valid_loss)), valid_loss, label=\"valid loss\")\n",
        "plt.legend()\n",
        "plt.title(\"Loss\")\n",
        "plt.show()\n",
        "\n",
        "plt.plot(range(len(train_acc)), train_acc, label=\"train accuracy\")\n",
        "plt.plot(range(len(valid_acc)), valid_acc, label=\"valid accuracy\")\n",
        "plt.legend()\n",
        "plt.title(\"Accuracy\")\n",
        "plt.show()"
      ],
      "execution_count": 10,
      "outputs": [
        {
          "output_type": "display_data",
          "data": {
            "image/png": "[encoded data removed]",
            "text/plain": [
              "<Figure size 432x288 with 1 Axes>"
            ]
          },
          "metadata": {
            "tags": [],
            "needs_background": "light"
          }
        },
        {
          "output_type": "display_data",
          "data": {
            "image/png": "[encoded data removed]",
            "text/plain": [
              "<Figure size 432x288 with 1 Axes>"
            ]
          },
          "metadata": {
            "tags": [],
            "needs_background": "light"
          }
        }
      ]
    },
    {
      "cell_type": "code",
      "metadata": {
        "id": "5DMASvdEOE_S",
        "colab_type": "code",
        "colab": {
          "base_uri": "https://localhost:8080/",
          "height": 1000
        },
        "outputId": "fa9c2de6-09b3-445b-dced-49df108dc1b0"
      },
      "source": [
        "model = build_mlp(input_shape=x_train.shape[1:])\n",
        "model.summary()\n",
        "optimizer = keras.optimizers.Adam(lr=1e-3)\n",
        "model.compile(loss=\"categorical_crossentropy\", metrics=[\"accuracy\"], optimizer=optimizer)\n",
        "\n",
        "model.fit(x_train, y_train, \n",
        "          epochs=EPOCHS, \n",
        "          batch_size=BATCH_SIZE, \n",
        "          validation_data=(x_test, y_test), \n",
        "          shuffle=True,\n",
        "          callbacks=[reduce_lr]\n",
        "         )\n",
        "\n",
        "# Collect results\n",
        "train_loss = model.history.history[\"loss\"]\n",
        "valid_loss = model.history.history[\"val_loss\"]\n",
        "train_acc = model.history.history[\"accuracy\"]\n",
        "valid_acc = model.history.history[\"val_accuracy\"]"
      ],
      "execution_count": 12,
      "outputs": [
        {
          "output_type": "stream",
          "text": [
            "Model: \"model_3\"\n",
            "_________________________________________________________________\n",
            "Layer (type)                 Output Shape              Param #   \n",
            "=================================================================\n",
            "input_3 (InputLayer)         (None, 3072)              0         \n",
            "_________________________________________________________________\n",
            "hidden_layer1 (Dense)        (None, 512)               1573376   \n",
            "_________________________________________________________________\n",
            "batch_normalization_7 (Batch (None, 512)               2048      \n",
            "_________________________________________________________________\n",
            "hidden_layer2 (Dense)        (None, 256)               131328    \n",
            "_________________________________________________________________\n",
            "batch_normalization_8 (Batch (None, 256)               1024      \n",
            "_________________________________________________________________\n",
            "hidden_layer3 (Dense)        (None, 128)               32896     \n",
            "_________________________________________________________________\n",
            "batch_normalization_9 (Batch (None, 128)               512       \n",
            "_________________________________________________________________\n",
            "output (Dense)               (None, 10)                1290      \n",
            "=================================================================\n",
            "Total params: 1,742,474\n",
            "Trainable params: 1,740,682\n",
            "Non-trainable params: 1,792\n",
            "_________________________________________________________________\n",
            "Train on 50000 samples, validate on 10000 samples\n",
            "Epoch 1/30\n",
            "50000/50000 [==============================] - 10s 192us/step - loss: 1.7718 - accuracy: 0.3827 - val_loss: 2.4713 - val_accuracy: 0.2320\n",
            "Epoch 2/30\n",
            "50000/50000 [==============================] - 9s 177us/step - loss: 1.5033 - accuracy: 0.4708 - val_loss: 2.2141 - val_accuracy: 0.2666\n",
            "Epoch 3/30\n",
            "50000/50000 [==============================] - 9s 177us/step - loss: 1.3977 - accuracy: 0.5069 - val_loss: 1.7643 - val_accuracy: 0.3775\n",
            "Epoch 4/30\n",
            "50000/50000 [==============================] - 9s 177us/step - loss: 1.3215 - accuracy: 0.5330 - val_loss: 1.6476 - val_accuracy: 0.4066\n",
            "Epoch 5/30\n",
            "50000/50000 [==============================] - 9s 177us/step - loss: 1.2596 - accuracy: 0.5561 - val_loss: 1.8771 - val_accuracy: 0.3670\n",
            "Epoch 6/30\n",
            "50000/50000 [==============================] - 9s 178us/step - loss: 1.2088 - accuracy: 0.5729 - val_loss: 1.9952 - val_accuracy: 0.3245\n",
            "Epoch 7/30\n",
            "50000/50000 [==============================] - 9s 177us/step - loss: 1.1539 - accuracy: 0.5942 - val_loss: 2.1430 - val_accuracy: 0.3279\n",
            "Epoch 8/30\n",
            "50000/50000 [==============================] - 9s 178us/step - loss: 1.1120 - accuracy: 0.6086 - val_loss: 1.7235 - val_accuracy: 0.4014\n",
            "Epoch 9/30\n",
            "50000/50000 [==============================] - 9s 178us/step - loss: 1.0632 - accuracy: 0.6251 - val_loss: 2.0858 - val_accuracy: 0.3525\n",
            "\n",
            "Epoch 00009: ReduceLROnPlateau reducing learning rate to 0.0005000000237487257.\n",
            "Epoch 10/30\n",
            "50000/50000 [==============================] - 9s 176us/step - loss: 0.9635 - accuracy: 0.6634 - val_loss: 1.6400 - val_accuracy: 0.4343\n",
            "Epoch 11/30\n",
            "50000/50000 [==============================] - 9s 176us/step - loss: 0.9049 - accuracy: 0.6869 - val_loss: 1.6150 - val_accuracy: 0.4448\n",
            "Epoch 12/30\n",
            "50000/50000 [==============================] - 9s 178us/step - loss: 0.8657 - accuracy: 0.7020 - val_loss: 1.6147 - val_accuracy: 0.4611\n",
            "Epoch 13/30\n",
            "50000/50000 [==============================] - 9s 178us/step - loss: 0.8312 - accuracy: 0.7112 - val_loss: 1.7016 - val_accuracy: 0.4396\n",
            "Epoch 14/30\n",
            "50000/50000 [==============================] - 9s 178us/step - loss: 0.7982 - accuracy: 0.7267 - val_loss: 1.5204 - val_accuracy: 0.4827\n",
            "Epoch 15/30\n",
            "50000/50000 [==============================] - 9s 176us/step - loss: 0.7641 - accuracy: 0.7375 - val_loss: 1.6437 - val_accuracy: 0.4689\n",
            "Epoch 16/30\n",
            "50000/50000 [==============================] - 9s 177us/step - loss: 0.7336 - accuracy: 0.7489 - val_loss: 1.6795 - val_accuracy: 0.4799\n",
            "Epoch 17/30\n",
            "50000/50000 [==============================] - 9s 176us/step - loss: 0.6987 - accuracy: 0.7621 - val_loss: 1.7927 - val_accuracy: 0.4339\n",
            "Epoch 18/30\n",
            "50000/50000 [==============================] - 9s 177us/step - loss: 0.6698 - accuracy: 0.7723 - val_loss: 1.6782 - val_accuracy: 0.4721\n",
            "Epoch 19/30\n",
            "50000/50000 [==============================] - 9s 177us/step - loss: 0.6354 - accuracy: 0.7832 - val_loss: 1.9292 - val_accuracy: 0.4306\n",
            "\n",
            "Epoch 00019: ReduceLROnPlateau reducing learning rate to 0.0002500000118743628.\n",
            "Epoch 20/30\n",
            "50000/50000 [==============================] - 9s 176us/step - loss: 0.5427 - accuracy: 0.8277 - val_loss: 1.5750 - val_accuracy: 0.5037\n",
            "Epoch 21/30\n",
            "50000/50000 [==============================] - 9s 177us/step - loss: 0.5011 - accuracy: 0.8451 - val_loss: 1.5595 - val_accuracy: 0.5180\n",
            "Epoch 22/30\n",
            "50000/50000 [==============================] - 9s 177us/step - loss: 0.4767 - accuracy: 0.8558 - val_loss: 1.5910 - val_accuracy: 0.5070\n",
            "Epoch 23/30\n",
            "50000/50000 [==============================] - 9s 177us/step - loss: 0.4565 - accuracy: 0.8620 - val_loss: 1.6618 - val_accuracy: 0.5021\n",
            "Epoch 24/30\n",
            "50000/50000 [==============================] - 9s 177us/step - loss: 0.4351 - accuracy: 0.8707 - val_loss: 1.6563 - val_accuracy: 0.5159\n",
            "\n",
            "Epoch 00024: ReduceLROnPlateau reducing learning rate to 0.0001250000059371814.\n",
            "Epoch 25/30\n",
            "50000/50000 [==============================] - 9s 176us/step - loss: 0.3850 - accuracy: 0.8954 - val_loss: 1.6000 - val_accuracy: 0.5240\n",
            "Epoch 26/30\n",
            "50000/50000 [==============================] - 9s 176us/step - loss: 0.3668 - accuracy: 0.9030 - val_loss: 1.6200 - val_accuracy: 0.5256\n",
            "Epoch 27/30\n",
            "50000/50000 [==============================] - 9s 176us/step - loss: 0.3546 - accuracy: 0.9076 - val_loss: 1.6233 - val_accuracy: 0.5197\n",
            "Epoch 28/30\n",
            "50000/50000 [==============================] - 9s 176us/step - loss: 0.3416 - accuracy: 0.9129 - val_loss: 1.6503 - val_accuracy: 0.5237\n",
            "Epoch 29/30\n",
            "50000/50000 [==============================] - 9s 175us/step - loss: 0.3304 - accuracy: 0.9177 - val_loss: 1.6930 - val_accuracy: 0.5117\n",
            "\n",
            "Epoch 00029: ReduceLROnPlateau reducing learning rate to 6.25000029685907e-05.\n",
            "Epoch 30/30\n",
            "50000/50000 [==============================] - 9s 176us/step - loss: 0.3063 - accuracy: 0.9286 - val_loss: 1.6596 - val_accuracy: 0.5226\n"
          ],
          "name": "stdout"
        }
      ]
    },
    {
      "cell_type": "code",
      "metadata": {
        "id": "mgRmzvgwOd7M",
        "colab_type": "code",
        "colab": {
          "base_uri": "https://localhost:8080/",
          "height": 545
        },
        "outputId": "0e46f016-ef3a-4d08-dfb1-ba32adf606d3"
      },
      "source": [
        "import matplotlib.pyplot as plt\n",
        "%matplotlib inline\n",
        "\n",
        "plt.plot(range(len(train_loss)), train_loss, label=\"train loss\")\n",
        "plt.plot(range(len(valid_loss)), valid_loss, label=\"valid loss\")\n",
        "plt.legend()\n",
        "plt.title(\"Loss\")\n",
        "plt.show()\n",
        "\n",
        "plt.plot(range(len(train_acc)), train_acc, label=\"train accuracy\")\n",
        "plt.plot(range(len(valid_acc)), valid_acc, label=\"valid accuracy\")\n",
        "plt.legend()\n",
        "plt.title(\"Accuracy\")\n",
        "plt.show()"
      ],
      "execution_count": 13,
      "outputs": [
        {
          "output_type": "display_data",
          "data": {
            "image/png": "[encoded data removed]",
            "text/plain": [
              "<Figure size 432x288 with 1 Axes>"
            ]
          },
          "metadata": {
            "tags": [],
            "needs_background": "light"
          }
        },
        {
          "output_type": "display_data",
          "data": {
            "image/png": "[encoded data removed]",
            "text/plain": [
              "<Figure size 432x288 with 1 Axes>"
            ]
          },
          "metadata": {
            "tags": [],
            "needs_background": "light"
          }
        }
      ]
    }
  ]
}