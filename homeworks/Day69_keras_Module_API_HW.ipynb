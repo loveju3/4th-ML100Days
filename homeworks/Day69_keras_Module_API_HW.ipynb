{
  "nbformat": 4,
  "nbformat_minor": 0,
  "metadata": {
    "colab": {
      "name": "Day69-keras_Module_API_HW.ipynb",
      "provenance": [],
      "collapsed_sections": []
    },
    "kernelspec": {
      "name": "python3",
      "display_name": "Python 3"
    }
  },
  "cells": [
    {
      "cell_type": "code",
      "metadata": {
        "id": "XkXmiaDNGlbI",
        "colab_type": "code",
        "colab": {
          "base_uri": "https://localhost:8080/",
          "height": 33
        },
        "outputId": "43d91ed8-efde-4ddb-d6a5-09a354117cf3"
      },
      "source": [
        "from keras.layers import Input, Embedding, LSTM, Dense\n",
        "from keras.models import Model\n",
        "\n",
        "#主要輸入接收新聞標題本身，即一個整數序列（每個整數編碼一個詞）。\n",
        "#這些整數在1 到10,000 之間（10,000 個詞的詞彙表），且序列長度為100 個詞\n",
        "#宣告一個 NAME 去定義Input\n",
        "main_input = Input(shape=(100,), dtype='int32', name='main_input')\n",
        "\n",
        "\n",
        "# Embedding 層將輸入序列編碼為一個稠密向量的序列，\n",
        "# 每個向量維度為 512。\n",
        "x = Embedding(output_dim=512, input_dim=10000, input_length=100)(main_input)\n",
        "\n",
        "# LSTM 層把向量序列轉換成單個向量，\n",
        "# 它包含整個序列的上下文信息\n",
        "lstm_out = LSTM(32)(x)"
      ],
      "execution_count": 1,
      "outputs": [
        {
          "output_type": "stream",
          "text": [
            "Using TensorFlow backend.\n"
          ],
          "name": "stderr"
        }
      ]
    },
    {
      "cell_type": "code",
      "metadata": {
        "id": "FGbqzpDmGxhF",
        "colab_type": "code",
        "colab": {}
      },
      "source": [
        "#插入輔助損失，使得即使在模型主損失很高的情況下，LSTM 層和Embedding 層都能被平穩地訓練\n",
        "news_output = Dense(1, activation='sigmoid', name='news_out')(lstm_out)"
      ],
      "execution_count": 0,
      "outputs": []
    },
    {
      "cell_type": "code",
      "metadata": {
        "id": "b82x3n7GHWx7",
        "colab_type": "code",
        "colab": {}
      },
      "source": [
        "#輔助輸入數據與LSTM 層的輸出連接起來，輸入到模型\n",
        "import keras\n",
        "news_input = Input(shape=(5,), name='news_in')\n",
        "x = keras.layers.concatenate([lstm_out, news_input])\n",
        "\n",
        "\n",
        "# 堆疊多個全連接網路層\n",
        "x = Dense(64, activation='relu', name='D1')(x)\n",
        "x = Dense(64, activation='relu', name='D2')(x)\n",
        "#作業解答: 新增兩層\n",
        "x = Dense(64, activation='relu', name='D3')(x)\n",
        "x = Dense(64, activation='relu', name='D4')(x)\n",
        "x = Dense(64, activation='relu', name='D5')(x)\n",
        "# 最後添加主要的邏輯回歸層\n",
        "main_output = Dense(1, activation='sigmoid', name='main_output')(x)"
      ],
      "execution_count": 0,
      "outputs": []
    },
    {
      "cell_type": "code",
      "metadata": {
        "id": "LhEQBOFYHZ_k",
        "colab_type": "code",
        "colab": {}
      },
      "source": [
        "# 宣告 MODEL API, 分別採用自行定義的 Input/Output Layer\n",
        "model = Model(inputs=[main_input, news_input], outputs=[main_output, news_output])"
      ],
      "execution_count": 0,
      "outputs": []
    },
    {
      "cell_type": "code",
      "metadata": {
        "id": "ytZ5EOaaIOBa",
        "colab_type": "code",
        "colab": {}
      },
      "source": [
        "#  loss_weights={'main_output': 1., 'news_out': 0.2} Layer_name\n",
        "model.compile(optimizer='rmsprop',\n",
        "              loss={'main_output': 'binary_crossentropy', 'news_out': 'binary_crossentropy'},\n",
        "              loss_weights={'main_output': 1., 'news_out': 0.2})"
      ],
      "execution_count": 0,
      "outputs": []
    },
    {
      "cell_type": "code",
      "metadata": {
        "id": "ykdKlzqfJaqU",
        "colab_type": "code",
        "colab": {
          "base_uri": "https://localhost:8080/",
          "height": 569
        },
        "outputId": "5e73543d-61e0-429c-e5e7-9e54168e73ac"
      },
      "source": [
        "model.summary()"
      ],
      "execution_count": 13,
      "outputs": [
        {
          "output_type": "stream",
          "text": [
            "Model: \"model_3\"\n",
            "__________________________________________________________________________________________________\n",
            "Layer (type)                    Output Shape         Param #     Connected to                     \n",
            "==================================================================================================\n",
            "main_input (InputLayer)         (None, 100)          0                                            \n",
            "__________________________________________________________________________________________________\n",
            "embedding_1 (Embedding)         (None, 100, 512)     5120000     main_input[0][0]                 \n",
            "__________________________________________________________________________________________________\n",
            "lstm_1 (LSTM)                   (None, 32)           69760       embedding_1[0][0]                \n",
            "__________________________________________________________________________________________________\n",
            "news_in (InputLayer)            (None, 5)            0                                            \n",
            "__________________________________________________________________________________________________\n",
            "concatenate_1 (Concatenate)     (None, 37)           0           lstm_1[0][0]                     \n",
            "                                                                 news_in[0][0]                    \n",
            "__________________________________________________________________________________________________\n",
            "D1 (Dense)                      (None, 64)           2432        concatenate_1[0][0]              \n",
            "__________________________________________________________________________________________________\n",
            "D2 (Dense)                      (None, 64)           4160        D1[0][0]                         \n",
            "__________________________________________________________________________________________________\n",
            "D3 (Dense)                      (None, 64)           4160        D2[0][0]                         \n",
            "__________________________________________________________________________________________________\n",
            "D4 (Dense)                      (None, 64)           4160        D3[0][0]                         \n",
            "__________________________________________________________________________________________________\n",
            "D5 (Dense)                      (None, 64)           4160        D4[0][0]                         \n",
            "__________________________________________________________________________________________________\n",
            "main_output (Dense)             (None, 1)            65          D5[0][0]                         \n",
            "__________________________________________________________________________________________________\n",
            "news_out (Dense)                (None, 1)            33          lstm_1[0][0]                     \n",
            "==================================================================================================\n",
            "Total params: 5,208,930\n",
            "Trainable params: 5,208,930\n",
            "Non-trainable params: 0\n",
            "__________________________________________________________________________________________________\n"
          ],
          "name": "stdout"
        }
      ]
    }
  ]
}