{
  "nbformat": 4,
  "nbformat_minor": 0,
  "metadata": {
    "colab": {
      "name": "Day089_HW.ipynb",
      "provenance": [],
      "collapsed_sections": []
    },
    "kernelspec": {
      "name": "python3",
      "display_name": "Python 3"
    }
  },
  "cells": [
    {
      "cell_type": "code",
      "metadata": {
        "id": "bDraboegiAE_",
        "colab_type": "code",
        "colab": {
          "base_uri": "https://localhost:8080/",
          "height": 228
        },
        "outputId": "f1ebc7b0-45a6-4343-c0e4-c12ee663b195"
      },
      "source": [
        "import os\n",
        "import keras\n",
        "\n",
        "\n",
        "# 本範例不需使用 GPU, 將 GPU 設定為 \"無\"\n",
        "os.environ[\"CUDA_VISIBLE_DEVICES\"] = \"\""
      ],
      "execution_count": 17,
      "outputs": [
        {
          "output_type": "error",
          "ename": "AttributeError",
          "evalue": "ignored",
          "traceback": [
            "\u001b[0;31m---------------------------------------------------------------------------\u001b[0m",
            "\u001b[0;31mAttributeError\u001b[0m                            Traceback (most recent call last)",
            "\u001b[0;32m<ipython-input-17-73faf6a60ecf>\u001b[0m in \u001b[0;36m<module>\u001b[0;34m()\u001b[0m\n\u001b[1;32m      2\u001b[0m \u001b[0;32mimport\u001b[0m \u001b[0mkeras\u001b[0m\u001b[0;34m\u001b[0m\u001b[0;34m\u001b[0m\u001b[0m\n\u001b[1;32m      3\u001b[0m \u001b[0;32mimport\u001b[0m \u001b[0mtensorflow\u001b[0m \u001b[0;32mas\u001b[0m \u001b[0mtf\u001b[0m\u001b[0;34m\u001b[0m\u001b[0;34m\u001b[0m\u001b[0m\n\u001b[0;32m----> 4\u001b[0;31m \u001b[0mtf\u001b[0m\u001b[0;34m.\u001b[0m\u001b[0menable_eager_execution\u001b[0m\u001b[0;34m(\u001b[0m\u001b[0;34m)\u001b[0m\u001b[0;34m\u001b[0m\u001b[0;34m\u001b[0m\u001b[0m\n\u001b[0m\u001b[1;32m      5\u001b[0m \u001b[0;34m\u001b[0m\u001b[0m\n\u001b[1;32m      6\u001b[0m \u001b[0;31m# 本範例不需使用 GPU, 將 GPU 設定為 \"無\"\u001b[0m\u001b[0;34m\u001b[0m\u001b[0;34m\u001b[0m\u001b[0;34m\u001b[0m\u001b[0m\n",
            "\u001b[0;31mAttributeError\u001b[0m: module 'tensorflow' has no attribute 'enable_eager_execution'"
          ]
        }
      ]
    },
    {
      "cell_type": "code",
      "metadata": {
        "id": "L2uF9CqGjYUZ",
        "colab_type": "code",
        "colab": {}
      },
      "source": [
        "train, test = keras.datasets.cifar10.load_data()"
      ],
      "execution_count": 18,
      "outputs": []
    },
    {
      "cell_type": "code",
      "metadata": {
        "id": "aJAvJq5FjaWN",
        "colab_type": "code",
        "colab": {}
      },
      "source": [
        "## 資料前處理\n",
        "def preproc_x(x, flatten=True):\n",
        "    x = x / 255.\n",
        "    if flatten:\n",
        "        x = x.reshape((len(x), -1))\n",
        "    return x\n",
        "\n",
        "def preproc_y(y, num_classes=10):\n",
        "    if y.shape[-1] == 1:\n",
        "        y = keras.utils.to_categorical(y, num_classes)\n",
        "    return y   "
      ],
      "execution_count": 19,
      "outputs": []
    },
    {
      "cell_type": "code",
      "metadata": {
        "id": "Ba2pFNbyjbYO",
        "colab_type": "code",
        "colab": {}
      },
      "source": [
        "x_train, y_train = train\n",
        "x_test, y_test = test\n",
        "\n",
        "# 資料前處理 - X 標準化\n",
        "x_train = preproc_x(x_train)\n",
        "x_test = preproc_x(x_test)\n",
        "\n",
        "# 資料前處理 -Y 轉成 onehot\n",
        "y_train = preproc_y(y_train)\n",
        "y_test = preproc_y(y_test)"
      ],
      "execution_count": 20,
      "outputs": []
    },
    {
      "cell_type": "code",
      "metadata": {
        "id": "Ve7Q-7CHjezW",
        "colab_type": "code",
        "colab": {}
      },
      "source": [
        "from keras.layers import BatchNormalization\n",
        "\n",
        "\"\"\"\n",
        "建立神經網路，並加入 BN layer\n",
        "\"\"\"\n",
        "def build_mlp(input_shape, output_units=10, num_neurons=[512, 256, 128]):\n",
        "    input_layer = keras.layers.Input(input_shape)\n",
        "    \n",
        "    for i, n_units in enumerate(num_neurons):\n",
        "        if i == 0:\n",
        "            x = keras.layers.Dense(units=n_units, \n",
        "                                   activation=\"relu\", \n",
        "                                   name=\"hidden_layer\"+str(i+1))(input_layer)\n",
        "            x = BatchNormalization()(x)\n",
        "        else:\n",
        "            x = keras.layers.Dense(units=n_units, \n",
        "                                   activation=\"relu\", \n",
        "                                   name=\"hidden_layer\"+str(i+1))(x)\n",
        "            x = BatchNormalization()(x)\n",
        "    \n",
        "    out = keras.layers.Dense(units=output_units, activation=\"softmax\", name=\"output\")(x)\n",
        "    \n",
        "    model = keras.models.Model(inputs=[input_layer], outputs=[out])\n",
        "    return model"
      ],
      "execution_count": 21,
      "outputs": []
    },
    {
      "cell_type": "code",
      "metadata": {
        "id": "7H1yfQ12jhK2",
        "colab_type": "code",
        "colab": {}
      },
      "source": [
        "## 超參數設定\n",
        "LEARNING_RATE = 1e-3\n",
        "EPOCHS = 30\n",
        "BATCH_SIZE = 1024\n",
        "MOMENTUM = 0.95"
      ],
      "execution_count": 22,
      "outputs": []
    },
    {
      "cell_type": "code",
      "metadata": {
        "id": "Y2sSX-_zjkeO",
        "colab_type": "code",
        "colab": {}
      },
      "source": [
        "import tensorflow as tf\n",
        "import keras.backend as K\n",
        "\n",
        "\"\"\"\n",
        "# 撰寫自定義的 loss function: focal loss (https://blog.csdn.net/u014380165/article/details/77019084)\n",
        "\"\"\"\n",
        "def focal_loss(gamma=2., alpha=4.):\n",
        "    gamma = float(gamma)\n",
        "    alpha = float(alpha)\n",
        "    def focal_loss_fixed(y_true, y_pred):\n",
        "        \"\"\"Focal loss for multi-classification\n",
        "        FL(p_t)=-alpha(1-p_t)^{gamma}ln(p_t)\n",
        "        \"\"\"\n",
        "        epsilon = 1e-8\n",
        "        y_true = tf.convert_to_tensor(y_true, tf.float32)\n",
        "        y_pred = tf.convert_to_tensor(y_pred, tf.float32)\n",
        "\n",
        "        model_out = tf.add(y_pred, epsilon)\n",
        "        ce = tf.multiply(y_true, -tf.math.log(model_out))\n",
        "        weight = tf.multiply(y_true, tf.pow(tf.subtract(1., model_out), gamma))\n",
        "        fl = tf.multiply(alpha, tf.multiply(weight, ce))\n",
        "        reduced_fl = tf.reduce_max(fl, axis=1)\n",
        "\n",
        "        cce = tf.keras.losses.CategoricalCrossentropy()\n",
        "        ce_loss = cce(y_true, y_pred)\n",
        "        final_loss = tf.reduce_mean(reduced_fl) * 0.3 + ce_loss * 0.7\n",
        "        return final_loss\n",
        "\n",
        "\n",
        "    return focal_loss_fixed"
      ],
      "execution_count": 26,
      "outputs": []
    },
    {
      "cell_type": "code",
      "metadata": {
        "id": "gB4z69m0jmsd",
        "colab_type": "code",
        "colab": {
          "base_uri": "https://localhost:8080/",
          "height": 1000
        },
        "outputId": "7aeafb65-f911-4459-de73-cff8f1f2afa4"
      },
      "source": [
        "import numpy\n",
        "\n",
        "model = build_mlp(input_shape=x_train.shape[1:])\n",
        "model.summary()\n",
        "optimizer = keras.optimizers.SGD(lr=LEARNING_RATE, nesterov=True, momentum=MOMENTUM)\n",
        "model.compile(loss=\"categorical_crossentropy\", metrics=[\"accuracy\"], optimizer=optimizer)\n",
        "\"\"\"\n",
        "# 在 compile 時，使用自定義的 loss function\n",
        "\"\"\"\n",
        "model.compile(loss=focal_loss(), metrics=[\"accuracy\"], optimizer=optimizer)\n",
        "\n",
        "model.fit(x_train, y_train, \n",
        "          epochs=EPOCHS, \n",
        "          batch_size=BATCH_SIZE, \n",
        "          validation_data=(x_test, y_test), \n",
        "          shuffle=True\n",
        "         )\n",
        "\n",
        "# Collect results\n",
        "train_loss = model.history.history[\"loss\"]\n",
        "valid_loss = model.history.history[\"val_loss\"]\n",
        "train_acc = model.history.history[\"accuracy\"]\n",
        "valid_acc = model.history.history[\"val_accuracy\"]"
      ],
      "execution_count": 27,
      "outputs": [
        {
          "output_type": "stream",
          "text": [
            "Model: \"model_5\"\n",
            "_________________________________________________________________\n",
            "Layer (type)                 Output Shape              Param #   \n",
            "=================================================================\n",
            "input_5 (InputLayer)         (None, 3072)              0         \n",
            "_________________________________________________________________\n",
            "hidden_layer1 (Dense)        (None, 512)               1573376   \n",
            "_________________________________________________________________\n",
            "batch_normalization_13 (Batc (None, 512)               2048      \n",
            "_________________________________________________________________\n",
            "hidden_layer2 (Dense)        (None, 256)               131328    \n",
            "_________________________________________________________________\n",
            "batch_normalization_14 (Batc (None, 256)               1024      \n",
            "_________________________________________________________________\n",
            "hidden_layer3 (Dense)        (None, 128)               32896     \n",
            "_________________________________________________________________\n",
            "batch_normalization_15 (Batc (None, 128)               512       \n",
            "_________________________________________________________________\n",
            "output (Dense)               (None, 10)                1290      \n",
            "=================================================================\n",
            "Total params: 1,742,474\n",
            "Trainable params: 1,740,682\n",
            "Non-trainable params: 1,792\n",
            "_________________________________________________________________\n",
            "Train on 50000 samples, validate on 10000 samples\n",
            "Epoch 1/30\n",
            "50000/50000 [==============================] - 7s 147us/step - loss: 3.4266 - accuracy: 0.3034 - val_loss: 3.5482 - val_accuracy: 0.1549\n",
            "Epoch 2/30\n",
            "50000/50000 [==============================] - 7s 133us/step - loss: 2.5703 - accuracy: 0.4210 - val_loss: 3.0823 - val_accuracy: 0.3156\n",
            "Epoch 3/30\n",
            "50000/50000 [==============================] - 7s 132us/step - loss: 2.3549 - accuracy: 0.4621 - val_loss: 2.7966 - val_accuracy: 0.3793\n",
            "Epoch 4/30\n",
            "50000/50000 [==============================] - 7s 132us/step - loss: 2.2264 - accuracy: 0.4888 - val_loss: 2.6049 - val_accuracy: 0.4103\n",
            "Epoch 5/30\n",
            "50000/50000 [==============================] - 7s 143us/step - loss: 2.1269 - accuracy: 0.5072 - val_loss: 2.4543 - val_accuracy: 0.4399\n",
            "Epoch 6/30\n",
            "50000/50000 [==============================] - 9s 180us/step - loss: 2.0368 - accuracy: 0.5267 - val_loss: 2.3498 - val_accuracy: 0.4539\n",
            "Epoch 7/30\n",
            "50000/50000 [==============================] - 7s 134us/step - loss: 1.9674 - accuracy: 0.5407 - val_loss: 2.3070 - val_accuracy: 0.4640\n",
            "Epoch 8/30\n",
            "50000/50000 [==============================] - 7s 133us/step - loss: 1.8970 - accuracy: 0.5542 - val_loss: 2.2793 - val_accuracy: 0.4747\n",
            "Epoch 9/30\n",
            "50000/50000 [==============================] - 7s 134us/step - loss: 1.8365 - accuracy: 0.5680 - val_loss: 2.2507 - val_accuracy: 0.4780\n",
            "Epoch 10/30\n",
            "50000/50000 [==============================] - 7s 134us/step - loss: 1.7786 - accuracy: 0.5817 - val_loss: 2.2260 - val_accuracy: 0.4820\n",
            "Epoch 11/30\n",
            "50000/50000 [==============================] - 7s 133us/step - loss: 1.7249 - accuracy: 0.5926 - val_loss: 2.2470 - val_accuracy: 0.4848\n",
            "Epoch 12/30\n",
            "50000/50000 [==============================] - 7s 136us/step - loss: 1.6708 - accuracy: 0.6022 - val_loss: 2.2024 - val_accuracy: 0.4881\n",
            "Epoch 13/30\n",
            "50000/50000 [==============================] - 7s 134us/step - loss: 1.6164 - accuracy: 0.6153 - val_loss: 2.2055 - val_accuracy: 0.4866\n",
            "Epoch 14/30\n",
            "50000/50000 [==============================] - 7s 135us/step - loss: 1.5677 - accuracy: 0.6277 - val_loss: 2.2101 - val_accuracy: 0.4897\n",
            "Epoch 15/30\n",
            "50000/50000 [==============================] - 7s 134us/step - loss: 1.5154 - accuracy: 0.6390 - val_loss: 2.2257 - val_accuracy: 0.4831\n",
            "Epoch 16/30\n",
            "50000/50000 [==============================] - 7s 135us/step - loss: 1.4671 - accuracy: 0.6490 - val_loss: 2.2121 - val_accuracy: 0.4987\n",
            "Epoch 17/30\n",
            "50000/50000 [==============================] - 7s 134us/step - loss: 1.4230 - accuracy: 0.6591 - val_loss: 2.2239 - val_accuracy: 0.4989\n",
            "Epoch 18/30\n",
            "50000/50000 [==============================] - 7s 135us/step - loss: 1.3759 - accuracy: 0.6699 - val_loss: 2.2170 - val_accuracy: 0.4939\n",
            "Epoch 19/30\n",
            "50000/50000 [==============================] - 7s 135us/step - loss: 1.3290 - accuracy: 0.6801 - val_loss: 2.2492 - val_accuracy: 0.4862\n",
            "Epoch 20/30\n",
            "50000/50000 [==============================] - 7s 134us/step - loss: 1.2864 - accuracy: 0.6905 - val_loss: 2.2371 - val_accuracy: 0.4943\n",
            "Epoch 21/30\n",
            "50000/50000 [==============================] - 7s 134us/step - loss: 1.2387 - accuracy: 0.7023 - val_loss: 2.2841 - val_accuracy: 0.4921\n",
            "Epoch 22/30\n",
            "50000/50000 [==============================] - 7s 134us/step - loss: 1.1934 - accuracy: 0.7131 - val_loss: 2.2878 - val_accuracy: 0.4919\n",
            "Epoch 23/30\n",
            "50000/50000 [==============================] - 7s 135us/step - loss: 1.1552 - accuracy: 0.7232 - val_loss: 2.2568 - val_accuracy: 0.4969\n",
            "Epoch 24/30\n",
            "50000/50000 [==============================] - 7s 134us/step - loss: 1.1137 - accuracy: 0.7327 - val_loss: 2.2981 - val_accuracy: 0.4911\n",
            "Epoch 25/30\n",
            "50000/50000 [==============================] - 7s 135us/step - loss: 1.0719 - accuracy: 0.7417 - val_loss: 2.3131 - val_accuracy: 0.4970\n",
            "Epoch 26/30\n",
            "50000/50000 [==============================] - 7s 133us/step - loss: 1.0299 - accuracy: 0.7517 - val_loss: 2.3698 - val_accuracy: 0.4772\n",
            "Epoch 27/30\n",
            "50000/50000 [==============================] - 7s 137us/step - loss: 0.9860 - accuracy: 0.7649 - val_loss: 2.3460 - val_accuracy: 0.4883\n",
            "Epoch 28/30\n",
            "50000/50000 [==============================] - 7s 135us/step - loss: 0.9500 - accuracy: 0.7728 - val_loss: 2.3666 - val_accuracy: 0.4913\n",
            "Epoch 29/30\n",
            "50000/50000 [==============================] - 7s 134us/step - loss: 0.9085 - accuracy: 0.7841 - val_loss: 2.4520 - val_accuracy: 0.4828\n",
            "Epoch 30/30\n",
            "50000/50000 [==============================] - 7s 134us/step - loss: 0.8686 - accuracy: 0.7951 - val_loss: 2.4292 - val_accuracy: 0.4872\n"
          ],
          "name": "stdout"
        },
        {
          "output_type": "error",
          "ename": "KeyError",
          "evalue": "ignored",
          "traceback": [
            "\u001b[0;31m---------------------------------------------------------------------------\u001b[0m",
            "\u001b[0;31mKeyError\u001b[0m                                  Traceback (most recent call last)",
            "\u001b[0;32m<ipython-input-27-f9e9dfad92d0>\u001b[0m in \u001b[0;36m<module>\u001b[0;34m()\u001b[0m\n\u001b[1;32m     23\u001b[0m \u001b[0mvalid_acc\u001b[0m \u001b[0;34m=\u001b[0m \u001b[0mmodel\u001b[0m\u001b[0;34m.\u001b[0m\u001b[0mhistory\u001b[0m\u001b[0;34m.\u001b[0m\u001b[0mhistory\u001b[0m\u001b[0;34m[\u001b[0m\u001b[0;34m\"val_accuracy\"\u001b[0m\u001b[0;34m]\u001b[0m\u001b[0;34m\u001b[0m\u001b[0;34m\u001b[0m\u001b[0m\n\u001b[1;32m     24\u001b[0m \u001b[0;34m\u001b[0m\u001b[0m\n\u001b[0;32m---> 25\u001b[0;31m \u001b[0mvalid_f1sc\u001b[0m \u001b[0;34m=\u001b[0m \u001b[0mmodel\u001b[0m\u001b[0;34m.\u001b[0m\u001b[0mhistory\u001b[0m\u001b[0;34m.\u001b[0m\u001b[0mhistory\u001b[0m\u001b[0;34m[\u001b[0m\u001b[0;34m'val_f1sc'\u001b[0m\u001b[0;34m]\u001b[0m\u001b[0;34m\u001b[0m\u001b[0;34m\u001b[0m\u001b[0m\n\u001b[0m",
            "\u001b[0;31mKeyError\u001b[0m: 'val_f1sc'"
          ]
        }
      ]
    },
    {
      "cell_type": "code",
      "metadata": {
        "id": "uujHEvUrpBm4",
        "colab_type": "code",
        "colab": {}
      },
      "source": [
        "train_loss = model.history.history[\"loss\"]\n",
        "valid_loss = model.history.history[\"val_loss\"]\n",
        "train_acc = model.history.history[\"accuracy\"]\n",
        "valid_acc = model.history.history[\"val_accuracy\"]"
      ],
      "execution_count": 28,
      "outputs": []
    },
    {
      "cell_type": "code",
      "metadata": {
        "id": "4TrVD319j68o",
        "colab_type": "code",
        "colab": {
          "base_uri": "https://localhost:8080/",
          "height": 545
        },
        "outputId": "42f1876b-9260-47d2-a205-9a6143b3df88"
      },
      "source": [
        "import matplotlib.pyplot as plt\n",
        "%matplotlib inline\n",
        "\n",
        "plt.plot(range(len(train_loss)), train_loss, label=\"train loss\")\n",
        "plt.plot(range(len(valid_loss)), valid_loss, label=\"valid loss\")\n",
        "plt.legend()\n",
        "plt.title(\"Loss\")\n",
        "plt.show()\n",
        "\n",
        "plt.plot(range(len(train_acc)), train_acc, label=\"train accuracy\")\n",
        "plt.plot(range(len(valid_acc)), valid_acc, label=\"valid accuracy\")\n",
        "plt.legend()\n",
        "plt.title(\"Accuracy\")\n",
        "plt.show()"
      ],
      "execution_count": 31,
      "outputs": [
        {
          "output_type": "display_data",
          "data": {
            "image/png": "[encoded data removed]",
            "text/plain": [
              "<Figure size 432x288 with 1 Axes>"
            ]
          },
          "metadata": {
            "tags": [],
            "needs_background": "light"
          }
        },
        {
          "output_type": "display_data",
          "data": {
            "image/png": "[encoded data removed]",
            "text/plain": [
              "<Figure size 432x288 with 1 Axes>"
            ]
          },
          "metadata": {
            "tags": [],
            "needs_background": "light"
          }
        }
      ]
    }
  ]
}