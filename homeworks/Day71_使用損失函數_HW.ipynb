{
  "nbformat": 4,
  "nbformat_minor": 0,
  "metadata": {
    "colab": {
      "name": "Day71-使用損失函數_HW.ipynb",
      "provenance": [],
      "collapsed_sections": []
    },
    "kernelspec": {
      "name": "python3",
      "display_name": "Python 3"
    },
    "accelerator": "GPU"
  },
  "cells": [
    {
      "cell_type": "code",
      "metadata": {
        "id": "Wj2yUyq1zZ11",
        "colab_type": "code",
        "colab": {}
      },
      "source": [
        "from keras.datasets import cifar10\n",
        "import numpy as np\n",
        "np.random.seed(10)"
      ],
      "execution_count": 1,
      "outputs": []
    },
    {
      "cell_type": "code",
      "metadata": {
        "id": "oyTK5125zd_c",
        "colab_type": "code",
        "colab": {
          "base_uri": "https://localhost:8080/",
          "height": 52
        },
        "outputId": "a834b1da-5fb1-455f-84f0-ae095a6f7235"
      },
      "source": [
        "#取得Keras Dataset\n",
        "(x_img_train,y_label_train),(x_img_test,y_label_test)=cifar10.load_data()"
      ],
      "execution_count": 2,
      "outputs": [
        {
          "output_type": "stream",
          "text": [
            "Downloading data from https://www.cs.toronto.edu/~kriz/cifar-10-python.tar.gz\n",
            "170500096/170498071 [==============================] - 11s 0us/step\n"
          ],
          "name": "stdout"
        }
      ]
    },
    {
      "cell_type": "code",
      "metadata": {
        "id": "DYh7UYzszfNK",
        "colab_type": "code",
        "colab": {
          "base_uri": "https://localhost:8080/",
          "height": 52
        },
        "outputId": "d53ed71b-aa63-441e-8a62-f4ec547a3e4f"
      },
      "source": [
        "#確認 CIFAR10 Dataset 資料維度\n",
        "print(\"train data:\",'images:',x_img_train.shape,\n",
        "      \" labels:\",y_label_train.shape) \n",
        "print(\"test  data:\",'images:',x_img_test.shape ,\n",
        "      \" labels:\",y_label_test.shape) "
      ],
      "execution_count": 3,
      "outputs": [
        {
          "output_type": "stream",
          "text": [
            "train data: images: (50000, 32, 32, 3)  labels: (50000, 1)\n",
            "test  data: images: (10000, 32, 32, 3)  labels: (10000, 1)\n"
          ],
          "name": "stdout"
        }
      ]
    },
    {
      "cell_type": "code",
      "metadata": {
        "id": "4lF9IPkWzfrE",
        "colab_type": "code",
        "colab": {}
      },
      "source": [
        "#資料正規化\n",
        "x_img_train_normalize = x_img_train.astype('float32') / 255.0\n",
        "x_img_test_normalize = x_img_test.astype('float32') / 255.0"
      ],
      "execution_count": 4,
      "outputs": []
    },
    {
      "cell_type": "code",
      "metadata": {
        "id": "_9AXEQcKziGD",
        "colab_type": "code",
        "colab": {
          "base_uri": "https://localhost:8080/",
          "height": 34
        },
        "outputId": "2de44849-f1eb-48cf-829a-48c494af3a2e"
      },
      "source": [
        "#針對Label 做 ONE HOT ENCODE\n",
        "from keras.utils import np_utils\n",
        "y_label_train_OneHot = np_utils.to_categorical(y_label_train)\n",
        "y_label_test_OneHot = np_utils.to_categorical(y_label_test)\n",
        "y_label_test_OneHot.shape"
      ],
      "execution_count": 5,
      "outputs": [
        {
          "output_type": "execute_result",
          "data": {
            "text/plain": [
              "(10000, 10)"
            ]
          },
          "metadata": {
            "tags": []
          },
          "execution_count": 5
        }
      ]
    },
    {
      "cell_type": "code",
      "metadata": {
        "id": "tbb03udgzio0",
        "colab_type": "code",
        "colab": {}
      },
      "source": [
        "from keras.models import Sequential\n",
        "from keras.layers import Dense, Dropout, Activation, Flatten\n",
        "from keras.layers import Conv2D, MaxPooling2D, ZeroPadding2D"
      ],
      "execution_count": 6,
      "outputs": []
    },
    {
      "cell_type": "code",
      "metadata": {
        "id": "ubhERfNZzkHd",
        "colab_type": "code",
        "colab": {}
      },
      "source": [
        "model = Sequential()\n",
        "model.add(Conv2D(filters=32,kernel_size=(3,3),\n",
        "                 input_shape=(32, 32,3), \n",
        "                 activation='relu', \n",
        "                 padding='same'))"
      ],
      "execution_count": 7,
      "outputs": []
    },
    {
      "cell_type": "code",
      "metadata": {
        "id": "E73YwDpxzprM",
        "colab_type": "code",
        "colab": {
          "base_uri": "https://localhost:8080/",
          "height": 562
        },
        "outputId": "69e0edd9-4e3e-49c0-cc86-96446ef39e79"
      },
      "source": [
        "model.add(Dropout(rate=0.25))\n",
        "model.add(MaxPooling2D(pool_size=(2, 2)))\n",
        "model.add(Conv2D(filters=64, kernel_size=(3, 3), \n",
        "                 activation='relu', padding='same'))\n",
        "model.add(Dropout(0.25))\n",
        "model.add(MaxPooling2D(pool_size=(2, 2)))\n",
        "model.add(Flatten())\n",
        "model.add(Dropout(rate=0.25))\n",
        "model.add(Dense(1024, activation='relu'))\n",
        "model.add(Dropout(rate=0.25))\n",
        "model.add(Dense(10, activation='softmax'))\n",
        "print(model.summary())"
      ],
      "execution_count": 8,
      "outputs": [
        {
          "output_type": "stream",
          "text": [
            "Model: \"sequential\"\n",
            "_________________________________________________________________\n",
            "Layer (type)                 Output Shape              Param #   \n",
            "=================================================================\n",
            "conv2d (Conv2D)              (None, 32, 32, 32)        896       \n",
            "_________________________________________________________________\n",
            "dropout (Dropout)            (None, 32, 32, 32)        0         \n",
            "_________________________________________________________________\n",
            "max_pooling2d (MaxPooling2D) (None, 16, 16, 32)        0         \n",
            "_________________________________________________________________\n",
            "conv2d_1 (Conv2D)            (None, 16, 16, 64)        18496     \n",
            "_________________________________________________________________\n",
            "dropout_1 (Dropout)          (None, 16, 16, 64)        0         \n",
            "_________________________________________________________________\n",
            "max_pooling2d_1 (MaxPooling2 (None, 8, 8, 64)          0         \n",
            "_________________________________________________________________\n",
            "flatten (Flatten)            (None, 4096)              0         \n",
            "_________________________________________________________________\n",
            "dropout_2 (Dropout)          (None, 4096)              0         \n",
            "_________________________________________________________________\n",
            "dense (Dense)                (None, 1024)              4195328   \n",
            "_________________________________________________________________\n",
            "dropout_3 (Dropout)          (None, 1024)              0         \n",
            "_________________________________________________________________\n",
            "dense_1 (Dense)              (None, 10)                10250     \n",
            "=================================================================\n",
            "Total params: 4,224,970\n",
            "Trainable params: 4,224,970\n",
            "Non-trainable params: 0\n",
            "_________________________________________________________________\n",
            "None\n"
          ],
          "name": "stdout"
        }
      ]
    },
    {
      "cell_type": "code",
      "metadata": {
        "id": "2qZz5iayz5Ks",
        "colab_type": "code",
        "colab": {
          "base_uri": "https://localhost:8080/",
          "height": 459
        },
        "outputId": "5b4465a7-9343-4b11-a0dc-8c9b10a0f537"
      },
      "source": [
        "model.compile(loss='categorical_crossentropy', optimizer='sgd', metrics=['accuracy'])\n",
        "train_history=model.fit(x_img_train_normalize, y_label_train_OneHot,\n",
        "                        validation_split=0.25,\n",
        "                        epochs=12, batch_size=128, verbose=1)       "
      ],
      "execution_count": 10,
      "outputs": [
        {
          "output_type": "stream",
          "text": [
            "Epoch 1/12\n",
            "293/293 [==============================] - 5s 18ms/step - loss: 2.1294 - accuracy: 0.2202 - val_loss: 2.0386 - val_accuracy: 0.3032\n",
            "Epoch 2/12\n",
            "293/293 [==============================] - 5s 16ms/step - loss: 1.9268 - accuracy: 0.3129 - val_loss: 1.9091 - val_accuracy: 0.3664\n",
            "Epoch 3/12\n",
            "293/293 [==============================] - 5s 16ms/step - loss: 1.7984 - accuracy: 0.3637 - val_loss: 1.8177 - val_accuracy: 0.4050\n",
            "Epoch 4/12\n",
            "293/293 [==============================] - 5s 16ms/step - loss: 1.7035 - accuracy: 0.3936 - val_loss: 1.7236 - val_accuracy: 0.4358\n",
            "Epoch 5/12\n",
            "293/293 [==============================] - 5s 16ms/step - loss: 1.6260 - accuracy: 0.4209 - val_loss: 1.6556 - val_accuracy: 0.4507\n",
            "Epoch 6/12\n",
            "293/293 [==============================] - 5s 16ms/step - loss: 1.5641 - accuracy: 0.4408 - val_loss: 1.6025 - val_accuracy: 0.4782\n",
            "Epoch 7/12\n",
            "293/293 [==============================] - 5s 16ms/step - loss: 1.5134 - accuracy: 0.4583 - val_loss: 1.5564 - val_accuracy: 0.4851\n",
            "Epoch 8/12\n",
            "293/293 [==============================] - 5s 16ms/step - loss: 1.4738 - accuracy: 0.4726 - val_loss: 1.5251 - val_accuracy: 0.4941\n",
            "Epoch 9/12\n",
            "293/293 [==============================] - 5s 16ms/step - loss: 1.4375 - accuracy: 0.4869 - val_loss: 1.4966 - val_accuracy: 0.5048\n",
            "Epoch 10/12\n",
            "293/293 [==============================] - 5s 16ms/step - loss: 1.4118 - accuracy: 0.4953 - val_loss: 1.4716 - val_accuracy: 0.5207\n",
            "Epoch 11/12\n",
            "293/293 [==============================] - 5s 16ms/step - loss: 1.3812 - accuracy: 0.5050 - val_loss: 1.4282 - val_accuracy: 0.5336\n",
            "Epoch 12/12\n",
            "293/293 [==============================] - 5s 16ms/step - loss: 1.3593 - accuracy: 0.5163 - val_loss: 1.4274 - val_accuracy: 0.5261\n"
          ],
          "name": "stdout"
        }
      ]
    },
    {
      "cell_type": "code",
      "metadata": {
        "id": "-4R7YgjI07gF",
        "colab_type": "code",
        "colab": {
          "base_uri": "https://localhost:8080/",
          "height": 295
        },
        "outputId": "42d71bb5-91fd-416a-bcc4-1c4ac74608c0"
      },
      "source": [
        "import matplotlib.pyplot as plt\n",
        "%matplotlib inline\n",
        "\n",
        "#定義一個繪圖函數\n",
        "def show_train_history(train_acc,test_acc):\n",
        "    plt.plot(train_history.history['accuracy'])\n",
        "    plt.plot(train_history.history['val_accuracy'])\n",
        "    plt.title('Train History')\n",
        "    plt.ylabel('Accuracy')\n",
        "    plt.xlabel('Epoch')\n",
        "    plt.legend(['train_acc', 'val_acc'], loc='upper left')\n",
        "    plt.show()\n",
        "show_train_history('acc','val_acc')"
      ],
      "execution_count": 15,
      "outputs": [
        {
          "output_type": "display_data",
          "data": {
            "image/png": "[encoded data removed]",
            "text/plain": [
              "<Figure size 432x288 with 1 Axes>"
            ]
          },
          "metadata": {
            "tags": [],
            "needs_background": "light"
          }
        }
      ]
    },
    {
      "cell_type": "code",
      "metadata": {
        "id": "VYxluyJ20EAc",
        "colab_type": "code",
        "colab": {
          "base_uri": "https://localhost:8080/",
          "height": 459
        },
        "outputId": "7268493b-ffd0-4741-af8e-2a815868c1a8"
      },
      "source": [
        "model.compile(loss='MSE', optimizer='sgd', metrics=['accuracy'])\n",
        "train_history=model.fit(x_img_train_normalize, y_label_train_OneHot,\n",
        "                        validation_split=0.25,\n",
        "                        epochs=12, batch_size=128, verbose=1) "
      ],
      "execution_count": 17,
      "outputs": [
        {
          "output_type": "stream",
          "text": [
            "Epoch 1/12\n",
            "293/293 [==============================] - 5s 17ms/step - loss: 0.0608 - accuracy: 0.5302 - val_loss: 0.0636 - val_accuracy: 0.5420\n",
            "Epoch 2/12\n",
            "293/293 [==============================] - 5s 16ms/step - loss: 0.0608 - accuracy: 0.5291 - val_loss: 0.0634 - val_accuracy: 0.5446\n",
            "Epoch 3/12\n",
            "293/293 [==============================] - 5s 16ms/step - loss: 0.0605 - accuracy: 0.5310 - val_loss: 0.0632 - val_accuracy: 0.5452\n",
            "Epoch 4/12\n",
            "293/293 [==============================] - 5s 16ms/step - loss: 0.0606 - accuracy: 0.5311 - val_loss: 0.0631 - val_accuracy: 0.5449\n",
            "Epoch 5/12\n",
            "293/293 [==============================] - 5s 16ms/step - loss: 0.0605 - accuracy: 0.5311 - val_loss: 0.0630 - val_accuracy: 0.5454\n",
            "Epoch 6/12\n",
            "293/293 [==============================] - 5s 16ms/step - loss: 0.0604 - accuracy: 0.5323 - val_loss: 0.0629 - val_accuracy: 0.5450\n",
            "Epoch 7/12\n",
            "293/293 [==============================] - 5s 16ms/step - loss: 0.0604 - accuracy: 0.5321 - val_loss: 0.0629 - val_accuracy: 0.5454\n",
            "Epoch 8/12\n",
            "293/293 [==============================] - 5s 16ms/step - loss: 0.0605 - accuracy: 0.5337 - val_loss: 0.0628 - val_accuracy: 0.5463\n",
            "Epoch 9/12\n",
            "293/293 [==============================] - 5s 16ms/step - loss: 0.0602 - accuracy: 0.5354 - val_loss: 0.0627 - val_accuracy: 0.5472\n",
            "Epoch 10/12\n",
            "293/293 [==============================] - 5s 16ms/step - loss: 0.0604 - accuracy: 0.5337 - val_loss: 0.0626 - val_accuracy: 0.5474\n",
            "Epoch 11/12\n",
            "293/293 [==============================] - 5s 16ms/step - loss: 0.0602 - accuracy: 0.5369 - val_loss: 0.0626 - val_accuracy: 0.5478\n",
            "Epoch 12/12\n",
            "293/293 [==============================] - 5s 16ms/step - loss: 0.0601 - accuracy: 0.5361 - val_loss: 0.0626 - val_accuracy: 0.5472\n"
          ],
          "name": "stdout"
        }
      ]
    },
    {
      "cell_type": "code",
      "metadata": {
        "id": "l-zCRgWW2NZ_",
        "colab_type": "code",
        "colab": {
          "base_uri": "https://localhost:8080/",
          "height": 295
        },
        "outputId": "686d339f-7191-480f-a6b2-709d675ae1fa"
      },
      "source": [
        "show_train_history('acc','val_acc')"
      ],
      "execution_count": 18,
      "outputs": [
        {
          "output_type": "display_data",
          "data": {
            "image/png": "[encoded data removed]",
            "text/plain": [
              "<Figure size 432x288 with 1 Axes>"
            ]
          },
          "metadata": {
            "tags": [],
            "needs_background": "light"
          }
        }
      ]
    }
  ]
}